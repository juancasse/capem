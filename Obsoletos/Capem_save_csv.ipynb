{
 "cells": [
  {
   "cell_type": "code",
   "execution_count": 24,
   "metadata": {},
   "outputs": [],
   "source": [
    "import csv\n",
    "import os\n",
    "archivo=r\"C:\\Users\\SdP\\Documents\\Ensayos\\test.csv\""
   ]
  },
  {
   "cell_type": "code",
   "execution_count": 39,
   "metadata": {},
   "outputs": [],
   "source": [
    "#funcion para guardar una fila en csv.\n",
    "#si el archivo no existe, te lo crea\n",
    "def agregar_fila(archivo:str, fila:list):\n",
    "    \"Abre un archivo CSV en modo 'append', por lo que agrega una nueva fila\"\n",
    "    with open(archivo, mode='a', newline='',) as archivo_csv:\n",
    "        writer = csv.writer(archivo_csv, delimiter=\";\")\n",
    "        writer.writerow(fila)\n",
    "    \n",
    "    archivo_csv.close()"
   ]
  },
  {
   "cell_type": "code",
   "execution_count": 43,
   "metadata": {},
   "outputs": [],
   "source": [
    "datos=\"123.1,5561,1,True,21321321,55.1213,15,lalala\"\n",
    "encabezado=\"par1,par2,par3,par4,codigo,estado,juan,sillon\""
   ]
  },
  {
   "cell_type": "code",
   "execution_count": 44,
   "metadata": {},
   "outputs": [],
   "source": [
    "if os.path.isfile(archivo):\n",
    "    agregar_fila(archivo,datos.split(\",\"))\n",
    "else:\n",
    "    agregar_fila(archivo,encabezado.split(\",\"))\n",
    "    agregar_fila(archivo,datos.split(\",\"))\n"
   ]
  },
  {
   "cell_type": "code",
   "execution_count": 42,
   "metadata": {},
   "outputs": [
    {
     "name": "stdout",
     "output_type": "stream",
     "text": [
      "Help on function agregar_fila in module __main__:\n",
      "\n",
      "agregar_fila(archivo: str, fila: list)\n",
      "    Abre un archivo CSV en modo 'append', por lo que agrega una nueva fila\n",
      "\n"
     ]
    }
   ],
   "source": [
    "help(agregar_fila)"
   ]
  },
  {
   "cell_type": "code",
   "execution_count": null,
   "metadata": {},
   "outputs": [],
   "source": []
  }
 ],
 "metadata": {
  "kernelspec": {
   "display_name": "Python 3",
   "language": "python",
   "name": "python3"
  },
  "language_info": {
   "codemirror_mode": {
    "name": "ipython",
    "version": 3
   },
   "file_extension": ".py",
   "mimetype": "text/x-python",
   "name": "python",
   "nbconvert_exporter": "python",
   "pygments_lexer": "ipython3",
   "version": "3.11.2"
  },
  "orig_nbformat": 4
 },
 "nbformat": 4,
 "nbformat_minor": 2
}
