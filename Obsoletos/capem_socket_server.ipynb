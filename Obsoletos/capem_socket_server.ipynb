{
 "cells": [
  {
   "cell_type": "code",
   "execution_count": 5,
   "metadata": {},
   "outputs": [],
   "source": [
    "import socket"
   ]
  },
  {
   "cell_type": "code",
   "execution_count": 6,
   "metadata": {},
   "outputs": [],
   "source": [
    "def responder(entrada):\n",
    "    \n",
    "    if entrada!= '':\n",
    "        try:\n",
    "            aux=float(entrada)\n",
    "            aux=aux**2\n",
    "            respuesta= str(aux)\n",
    "        except:\n",
    "            respuesta='equivocacion'\n",
    "    return respuesta.encode(\"ascii\")"
   ]
  },
  {
   "cell_type": "code",
   "execution_count": 14,
   "metadata": {},
   "outputs": [],
   "source": [
    "# Crear un objeto socket para el servidor\n",
    "#serversocket = socket.socket(socket.AF_INET, socket.SOCK_STREAM)\n",
    "\n",
    "# Obtener el nombre de la máquina del servidor\n",
    "#host = socket.gethostname()\n",
    "host=\"192.168.99.10\"\n",
    "\n",
    "# Establecer el número de puerto\n",
    "port = 9999\n"
   ]
  },
  {
   "cell_type": "code",
   "execution_count": 16,
   "metadata": {},
   "outputs": [
    {
     "name": "stdout",
     "output_type": "stream",
     "text": [
      "Connected by ('192.168.99.15', 51311)\n"
     ]
    }
   ],
   "source": [
    "with socket.socket(socket.AF_INET, socket.SOCK_STREAM) as s:\n",
    "    s.bind((host, port))\n",
    "    s.listen()\n",
    "    conn, addr = s.accept()\n",
    "    with conn:\n",
    "        print(f\"Connected by {addr}\")\n",
    "        while True:\n",
    "            data = conn.recv(1024)\n",
    "\n",
    "            if not data:\n",
    "                break\n",
    "        \n",
    "            #resp=responder(data) \n",
    "            resp=b'25.75,5.45,12.152,456,456.2,1,3215,123,123,123,515,15,681,6,313,6,5558, abcde,int32,mi vieja mula ya no es lo que era'\n",
    "            conn.sendall(resp)"
   ]
  },
  {
   "cell_type": "code",
   "execution_count": null,
   "metadata": {},
   "outputs": [],
   "source": []
  }
 ],
 "metadata": {
  "kernelspec": {
   "display_name": "Python 3",
   "language": "python",
   "name": "python3"
  },
  "language_info": {
   "codemirror_mode": {
    "name": "ipython",
    "version": 3
   },
   "file_extension": ".py",
   "mimetype": "text/x-python",
   "name": "python",
   "nbconvert_exporter": "python",
   "pygments_lexer": "ipython3",
   "version": "3.11.2"
  },
  "orig_nbformat": 4
 },
 "nbformat": 4,
 "nbformat_minor": 2
}
