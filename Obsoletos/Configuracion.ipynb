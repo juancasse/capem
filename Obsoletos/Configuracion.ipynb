{
 "cells": [
  {
   "cell_type": "markdown",
   "id": "ea050145-3a34-4803-aedc-d6a2c3efee2f",
   "metadata": {},
   "source": [
    "#### Pegando las carpetas:\n",
    "##### - **wxPython-4.2.0**\n",
    "##### - **OpenOPC-Python3x-1.3.1**\n",
    "##### - **pyserial-3.5**\n",
    "#### en C:\\Users\\Python\\anaconda3\\Lib, instalar usando:"
   ]
  },
  {
   "cell_type": "code",
   "execution_count": 2,
   "id": "5380c691-ce10-4e4c-9634-cd908a7bae30",
   "metadata": {},
   "outputs": [
    {
     "name": "stdout",
     "output_type": "stream",
     "text": [
      "Note: you may need to restart the kernel to use updated packages.\n"
     ]
    },
    {
     "name": "stderr",
     "output_type": "stream",
     "text": [
      "WARNING: Retrying (Retry(total=4, connect=None, read=None, redirect=None, status=None)) after connection broken by 'NewConnectionError('<pip._vendor.urllib3.connection.HTTPSConnection object at 0x0528BA70>: Failed to establish a new connection: [Errno 11001] getaddrinfo failed')': /simple/wxpython/\n",
      "WARNING: Retrying (Retry(total=3, connect=None, read=None, redirect=None, status=None)) after connection broken by 'NewConnectionError('<pip._vendor.urllib3.connection.HTTPSConnection object at 0x0528B7D0>: Failed to establish a new connection: [Errno 11001] getaddrinfo failed')': /simple/wxpython/\n",
      "WARNING: Retrying (Retry(total=2, connect=None, read=None, redirect=None, status=None)) after connection broken by 'NewConnectionError('<pip._vendor.urllib3.connection.HTTPSConnection object at 0x0528FC30>: Failed to establish a new connection: [Errno 11001] getaddrinfo failed')': /simple/wxpython/\n",
      "WARNING: Retrying (Retry(total=1, connect=None, read=None, redirect=None, status=None)) after connection broken by 'NewConnectionError('<pip._vendor.urllib3.connection.HTTPSConnection object at 0x0528FF30>: Failed to establish a new connection: [Errno 11001] getaddrinfo failed')': /simple/wxpython/\n",
      "WARNING: Retrying (Retry(total=0, connect=None, read=None, redirect=None, status=None)) after connection broken by 'NewConnectionError('<pip._vendor.urllib3.connection.HTTPSConnection object at 0x05297250>: Failed to establish a new connection: [Errno 11001] getaddrinfo failed')': /simple/wxpython/\n",
      "ERROR: Could not find a version that satisfies the requirement wxPython (from versions: none)\n",
      "ERROR: No matching distribution found for wxPython\n",
      "\n",
      "[notice] A new release of pip available: 22.3.1 -> 23.0.1\n",
      "[notice] To update, run: python.exe -m pip install --upgrade pip\n"
     ]
    }
   ],
   "source": [
    "pip install wxPython"
   ]
  },
  {
   "cell_type": "code",
   "execution_count": 3,
   "id": "513d3ea0",
   "metadata": {},
   "outputs": [
    {
     "name": "stdout",
     "output_type": "stream",
     "text": [
      "Requirement already satisfied: OpenOPC-Python3x in c:\\users\\sdp\\appdata\\local\\programs\\python\\python311-32\\lib\\site-packages (1.3.1)\n",
      "Requirement already satisfied: Pyro4>=4.61 in c:\\users\\sdp\\appdata\\local\\programs\\python\\python311-32\\lib\\site-packages (from OpenOPC-Python3x) (4.82)\n",
      "Requirement already satisfied: serpent>=1.27 in c:\\users\\sdp\\appdata\\local\\programs\\python\\python311-32\\lib\\site-packages (from Pyro4>=4.61->OpenOPC-Python3x) (1.41)\n",
      "Note: you may need to restart the kernel to use updated packages.\n"
     ]
    },
    {
     "name": "stderr",
     "output_type": "stream",
     "text": [
      "\n",
      "[notice] A new release of pip available: 22.3.1 -> 23.0.1\n",
      "[notice] To update, run: python.exe -m pip install --upgrade pip\n"
     ]
    }
   ],
   "source": [
    "pip install OpenOPC-Python3x"
   ]
  },
  {
   "cell_type": "code",
   "execution_count": 1,
   "id": "c2be568e",
   "metadata": {},
   "outputs": [
    {
     "name": "stdout",
     "output_type": "stream",
     "text": [
      "Collecting pyserial\n",
      "  Downloading pyserial-3.5-py2.py3-none-any.whl (90 kB)\n",
      "     -------------------------------------- 90.6/90.6 kB 285.9 kB/s eta 0:00:00\n",
      "Installing collected packages: pyserial\n",
      "Successfully installed pyserial-3.5\n",
      "Note: you may need to restart the kernel to use updated packages.\n"
     ]
    }
   ],
   "source": [
    "pip install pyserial"
   ]
  },
  {
   "cell_type": "code",
   "execution_count": 4,
   "id": "57a77de9",
   "metadata": {},
   "outputs": [
    {
     "name": "stdout",
     "output_type": "stream",
     "text": [
      "Note: you may need to restart the kernel to use updated packages.\n"
     ]
    },
    {
     "name": "stderr",
     "output_type": "stream",
     "text": [
      "WARNING: Retrying (Retry(total=4, connect=None, read=None, redirect=None, status=None)) after connection broken by 'NewConnectionError('<pip._vendor.urllib3.connection.HTTPSConnection object at 0x04D2A130>: Failed to establish a new connection: [Errno 11001] getaddrinfo failed')': /simple/pyodbc/\n",
      "WARNING: Retrying (Retry(total=3, connect=None, read=None, redirect=None, status=None)) after connection broken by 'NewConnectionError('<pip._vendor.urllib3.connection.HTTPSConnection object at 0x04D2A450>: Failed to establish a new connection: [Errno 11001] getaddrinfo failed')': /simple/pyodbc/\n",
      "WARNING: Retrying (Retry(total=2, connect=None, read=None, redirect=None, status=None)) after connection broken by 'NewConnectionError('<pip._vendor.urllib3.connection.HTTPSConnection object at 0x04D2A830>: Failed to establish a new connection: [Errno 11001] getaddrinfo failed')': /simple/pyodbc/\n",
      "WARNING: Retrying (Retry(total=1, connect=None, read=None, redirect=None, status=None)) after connection broken by 'NewConnectionError('<pip._vendor.urllib3.connection.HTTPSConnection object at 0x04D2AB10>: Failed to establish a new connection: [Errno 11001] getaddrinfo failed')': /simple/pyodbc/\n",
      "WARNING: Retrying (Retry(total=0, connect=None, read=None, redirect=None, status=None)) after connection broken by 'NewConnectionError('<pip._vendor.urllib3.connection.HTTPSConnection object at 0x04D2AE10>: Failed to establish a new connection: [Errno 11001] getaddrinfo failed')': /simple/pyodbc/\n",
      "ERROR: Could not find a version that satisfies the requirement pyodbc (from versions: none)\n",
      "ERROR: No matching distribution found for pyodbc\n",
      "\n",
      "[notice] A new release of pip available: 22.3.1 -> 23.0.1\n",
      "[notice] To update, run: python.exe -m pip install --upgrade pip\n"
     ]
    }
   ],
   "source": [
    "pip install pyodbc"
   ]
  },
  {
   "cell_type": "code",
   "execution_count": 11,
   "id": "2f1907b0",
   "metadata": {},
   "outputs": [
    {
     "name": "stdout",
     "output_type": "stream",
     "text": [
      "Collecting pyodbc\n",
      "  Downloading pyodbc-4.0.35-cp311-cp311-win32.whl (58 kB)\n",
      "     -------------------------------------- 59.0/59.0 kB 240.1 kB/s eta 0:00:00\n",
      "Installing collected packages: pyodbc\n",
      "Successfully installed pyodbc-4.0.35\n",
      "Note: you may need to restart the kernel to use updated packages.\n"
     ]
    },
    {
     "name": "stderr",
     "output_type": "stream",
     "text": [
      "\n",
      "[notice] A new release of pip available: 22.3.1 -> 23.0.1\n",
      "[notice] To update, run: python.exe -m pip install --upgrade pip\n"
     ]
    }
   ],
   "source": [
    "pip install pyodbc"
   ]
  },
  {
   "cell_type": "code",
   "execution_count": null,
   "id": "b2c00683",
   "metadata": {},
   "outputs": [],
   "source": []
  }
 ],
 "metadata": {
  "kernelspec": {
   "display_name": "Python 3 (ipykernel)",
   "language": "python",
   "name": "python3"
  },
  "language_info": {
   "codemirror_mode": {
    "name": "ipython",
    "version": 3
   },
   "file_extension": ".py",
   "mimetype": "text/x-python",
   "name": "python",
   "nbconvert_exporter": "python",
   "pygments_lexer": "ipython3",
   "version": "3.11.2"
  }
 },
 "nbformat": 4,
 "nbformat_minor": 5
}
