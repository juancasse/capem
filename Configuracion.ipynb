{
 "cells": [
  {
   "cell_type": "markdown",
   "id": "ea050145-3a34-4803-aedc-d6a2c3efee2f",
   "metadata": {},
   "source": [
    "#### Pegando las carpetas:\n",
    "##### - **wxPython-4.2.0**\n",
    "##### - **OpenOPC-Python3x-1.3.1**\n",
    "##### - **pyserial-3.5**\n",
    "#### en C:\\Users\\Python\\anaconda3\\Lib, instalar usando:"
   ]
  },
  {
   "cell_type": "code",
   "execution_count": null,
   "id": "5380c691-ce10-4e4c-9634-cd908a7bae30",
   "metadata": {},
   "outputs": [],
   "source": [
    "pip install wxPython"
   ]
  },
  {
   "cell_type": "code",
   "execution_count": null,
   "id": "513d3ea0",
   "metadata": {},
   "outputs": [],
   "source": [
    "pip install OpenOPC-Python3x"
   ]
  },
  {
   "cell_type": "code",
   "execution_count": 1,
   "id": "c2be568e",
   "metadata": {},
   "outputs": [
    {
     "name": "stdout",
     "output_type": "stream",
     "text": [
      "Collecting pyserial\n",
      "  Downloading pyserial-3.5-py2.py3-none-any.whl (90 kB)\n",
      "     -------------------------------------- 90.6/90.6 kB 285.9 kB/s eta 0:00:00\n",
      "Installing collected packages: pyserial\n",
      "Successfully installed pyserial-3.5\n",
      "Note: you may need to restart the kernel to use updated packages.\n"
     ]
    }
   ],
   "source": [
    "pip install pyserial"
   ]
  },
  {
   "cell_type": "code",
   "execution_count": null,
   "id": "57a77de9",
   "metadata": {},
   "outputs": [],
   "source": []
  }
 ],
 "metadata": {
  "kernelspec": {
   "display_name": "Python 3 (ipykernel)",
   "language": "python",
   "name": "python3"
  },
  "language_info": {
   "codemirror_mode": {
    "name": "ipython",
    "version": 3
   },
   "file_extension": ".py",
   "mimetype": "text/x-python",
   "name": "python",
   "nbconvert_exporter": "python",
   "pygments_lexer": "ipython3",
   "version": "3.9.13"
  }
 },
 "nbformat": 4,
 "nbformat_minor": 5
}
