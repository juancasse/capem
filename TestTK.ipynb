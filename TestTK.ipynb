{
 "cells": [
  {
   "cell_type": "code",
   "execution_count": 1,
   "id": "55223491",
   "metadata": {},
   "outputs": [],
   "source": [
    "import tkinter as tk\n",
    "from tkinter import ttk\n",
    "import time\n",
    "import funciones as fn"
   ]
  },
  {
   "cell_type": "code",
   "execution_count": 6,
   "id": "22802ded",
   "metadata": {},
   "outputs": [],
   "source": [
    "def conectar():\n",
    "    try:\n",
    "        srv.conectar(host=\"192.168.99.10\", port=9999)\n",
    "        hs=\"\"\n",
    "        hs=srv.enviar(\"hs\")\n",
    "        if hs==\"hs\":\n",
    "            lbl_sts.config(text=\"Conectado con servidor\")\n",
    "        else:\n",
    "            lbl_sts.config(text=\"Error de conexión\")\n",
    "    except:\n",
    "        lbl_sts.config(text=\"Sin ejecucion\")"
   ]
  },
  {
   "cell_type": "code",
   "execution_count": 4,
   "id": "0a1ccc5f",
   "metadata": {},
   "outputs": [],
   "source": [
    "def desconectar():\n",
    "    srv.cerrar()\n",
    "    lbl_sts.config(text=\"Desconectado del servidor\")"
   ]
  },
  {
   "cell_type": "code",
   "execution_count": 8,
   "id": "f539e938",
   "metadata": {},
   "outputs": [],
   "source": [
    "configuracion=fn.configurar()\n",
    "srv=fn.conexionsrv()\n",
    "\n",
    "\n",
    "root = tk.Tk()\n",
    "root.title(\"ADQUISIDOR CAPEM\")\n",
    "root.config(width=300, height=300)\n",
    "\n",
    "lbl_comandos = ttk.Label(text=\"COMANDOS:\")\n",
    "lbl_comandos.place(x=50, y=20)\n",
    "\n",
    "lbl_sts=ttk.Label(text=\"Estado: OK\",borderwidth=2, relief=\"groove\")\n",
    "lbl_sts.place(x=10, y=240,width=280, height=30)\n",
    "\n",
    "lbl_error=ttk.Label(text=\"Sin errores\",borderwidth=2, relief=\"groove\")\n",
    "lbl_error.place(x=10, y=260,width=280, height=30)\n",
    "\n",
    "\n",
    "btn_configurar= ttk.Button(text=\"CONFIGURAR\", command=configuracion.cargarconfig())\n",
    "btn_configurar.place(x=80, y=60,width=100, height=30)\n",
    "\n",
    "btn_conectar= ttk.Button(text=\"CONECTAR\", command=conectar())\n",
    "btn_conectar.place(x=80, y=90,width=100, height=30)\n",
    "\n",
    "btn_desconectar= ttk.Button(text=\"DESCONECTAR\", command=desconectar())\n",
    "btn_desconectar.place(x=80, y=120,width=100, height=30)\n",
    "\n",
    "\n",
    "btn_medir= ttk.Button(text=\"MEDIR\")\n",
    "btn_medir.place(x=80, y=150,width=100, height=30)\n",
    "\n",
    "btn_detener= ttk.Button(text=\"DETENER\")\n",
    "btn_detener.place(x=80, y=180,width=100, height=30)\n",
    "\n",
    "root.mainloop()"
   ]
  },
  {
   "cell_type": "code",
   "execution_count": null,
   "id": "f18a7103",
   "metadata": {},
   "outputs": [],
   "source": []
  }
 ],
 "metadata": {
  "kernelspec": {
   "display_name": "Python 3 (ipykernel)",
   "language": "python",
   "name": "python3"
  },
  "language_info": {
   "codemirror_mode": {
    "name": "ipython",
    "version": 3
   },
   "file_extension": ".py",
   "mimetype": "text/x-python",
   "name": "python",
   "nbconvert_exporter": "python",
   "pygments_lexer": "ipython3",
   "version": "3.11.2"
  }
 },
 "nbformat": 4,
 "nbformat_minor": 5
}
