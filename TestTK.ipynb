{
 "cells": [
  {
   "cell_type": "code",
   "execution_count": 24,
   "id": "55223491",
   "metadata": {},
   "outputs": [],
   "source": [
    "import tkinter as tk\n",
    "from tkinter import ttk\n",
    "import time\n",
    "import serial\n",
    "import socket"
   ]
  },
  {
   "cell_type": "code",
   "execution_count": 20,
   "id": "1215fdc2",
   "metadata": {},
   "outputs": [],
   "source": [
    "## Funcion que carga configuraciones\n",
    "def configurar(archivo=\"configuracion/config.txt\"):\n",
    "    \"Lee la configuración de un archivo de text que se da como argumento. Las frecuencias van entre $...$, separando los valores con comas\"\n",
    "    try:\n",
    "        with open(archivo) as configuracion:\n",
    "            texto=\"\".join(configuracion.readlines())\n",
    "            ubic1=texto.find(\"$\")+1\n",
    "            ubic2=texto.find(\"$\",ubic1)\n",
    "            if ubic1>=0 and ubic2>0:\n",
    "                frecuencias=texto[ubic1+1:ubic2-1].split(\",\")\n",
    "                for i, f in enumerate(frecuencias): \n",
    "                    frecuencias[i]=int(f)\n",
    "                etiqueta_error.config(text=f\"Frecuencias: {frecuencias}\")\n",
    "            else: \n",
    "                etiqueta_error.config(text=\"Error: No se reconoce la configuración\")\n",
    "    except Exception as e:\n",
    "        print(e)\n",
    "        etiqueta_error.config(text=f\"Error de excepción: {e}\")\n",
    "    return None"
   ]
  },
  {
   "cell_type": "code",
   "execution_count": 21,
   "id": "f539e938",
   "metadata": {},
   "outputs": [],
   "source": [
    "root = tk.Tk()\n",
    "root.title(\"ADQUISIDOR CAPEM\")\n",
    "root.config(width=300, height=300)\n",
    "\n",
    "etiqueta_comandos = ttk.Label(text=\"COMANDOS:\")\n",
    "etiqueta_comandos.place(x=50, y=20)\n",
    "\n",
    "etiqueta_error=ttk.Label(text=\"Estado: OK\",borderwidth=2, relief=\"groove\")\n",
    "etiqueta_error.place(x=10, y=260,width=280, height=30)\n",
    "\n",
    "btn_configurar= ttk.Button(text=\"CONFIGURAR\", command=configurar)\n",
    "btn_configurar.place(x=80, y=60,width=100, height=30)\n",
    "\n",
    "btn_medir= ttk.Button(text=\"MEDIR\")\n",
    "btn_medir.place(x=80, y=90,width=100, height=30)\n",
    "\n",
    "root.mainloop()"
   ]
  },
  {
   "cell_type": "code",
   "execution_count": null,
   "id": "f18a7103",
   "metadata": {},
   "outputs": [],
   "source": []
  }
 ],
 "metadata": {
  "kernelspec": {
   "display_name": "Python 3 (ipykernel)",
   "language": "python",
   "name": "python3"
  },
  "language_info": {
   "codemirror_mode": {
    "name": "ipython",
    "version": 3
   },
   "file_extension": ".py",
   "mimetype": "text/x-python",
   "name": "python",
   "nbconvert_exporter": "python",
   "pygments_lexer": "ipython3",
   "version": "3.11.2"
  }
 },
 "nbformat": 4,
 "nbformat_minor": 5
}
