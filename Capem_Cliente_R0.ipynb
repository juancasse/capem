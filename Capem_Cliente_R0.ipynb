{
 "cells": [
  {
   "cell_type": "code",
   "execution_count": 1,
   "metadata": {
    "id": "RPCa7izmhU7U",
    "scrolled": true
   },
   "outputs": [],
   "source": [
    "#import OpenOPC as OP\n",
    "import time\n",
    "import threading as th\n",
    "#import wx\n",
    "import datetime\n",
    "import serial\n",
    "import pywintypes\n",
    "pywintypes.datetime=pywintypes.TimeType\n",
    "import socket"
   ]
  },
  {
   "cell_type": "markdown",
   "metadata": {
    "tags": []
   },
   "source": [
    "### Definicion de variables globales"
   ]
  },
  {
   "cell_type": "code",
   "execution_count": 2,
   "metadata": {},
   "outputs": [],
   "source": [
    "#lista de comandos:\n",
    "#cerrar: finaliza el programa\n",
    "close=\"5\"\n",
    "#iniciar: inicia la medicion\n",
    "start= \"1\"\n",
    "#detener: detiene la medicion\n",
    "stop=\"2\"\n",
    "#envia una nueva configuracion\n",
    "config=\"0\"\n",
    "#Chequea el estado de la aplicacion\n",
    "status=\"4\"\n",
    "#Diccionario para mensajes luego de los comandos\n",
    "comdic={config:\"Cargando configuraciones\", start:\"Mediciones iniciadas\", stop:\"Mediciones detenidas\", close:\"Cerrando programa\", status: \"Estado de sistema:\"}\n",
    "comando=config\n",
    "comprev=comando\n",
    "variables=[]\n",
    "device=serial.Serial()\n",
    "HOST = \"192.168.99.10\"  # The server's hostname or IP address\n",
    "PORT = 9999  # The port used by the server\n",
    "\n",
    "# Configuraciones estandar\n",
    "repeticiones =10 #-> Número de repeticiones\n"
   ]
  },
  {
   "cell_type": "markdown",
   "metadata": {},
   "source": [
    "### Funciones\n"
   ]
  },
  {
   "cell_type": "code",
   "execution_count": 18,
   "metadata": {},
   "outputs": [],
   "source": [
    "## Funcion que carga configuraciones ->Listo en TEST\n",
    "def configurar(archivo=\"configuracion/config.txt\"):\n",
    "    \"Lee la configuración de un archivo de text que se da como argumento. Las frecuencias van entre $...$, separando los valores con comas\"\n",
    "    try:\n",
    "        with open(archivo) as config:\n",
    "            texto=\"\".join(config.readlines())\n",
    "            ubic1=texto.find(\"$\")+1\n",
    "            ubic2=texto.find(\"$\",ubic1)\n",
    "            if ubic1>=0 and ubic2>0:\n",
    "                frecuencias=texto[ubic1+1:ubic2-1].split(\",\")\n",
    "                for i, f in enumerate(frecuencias): \n",
    "                    frecuencias[i]=int(f)\n",
    "            else: \n",
    "                frecuencias=[]\n",
    "                print(\"No se encuentra configuración de frecuencia\")\n",
    "    except Exception as e:\n",
    "        print(e)\n",
    "    return frecuencias"
   ]
  },
  {
   "cell_type": "code",
   "execution_count": null,
   "metadata": {},
   "outputs": [],
   "source": [
    "##Funcion que chequea estado\n",
    "def check_estado():\n",
    "    \"Funcion que chequea estado del sistema\"\n",
    "    global comprev, device, comdic\n",
    "    \n",
    "    if device.isOpen():\n",
    "        dsp=\"Dispositivo conectado\\n\"\n",
    "    else:\n",
    "        dsp=\"Dispositivo desconectado\\n\"\n",
    "        \n",
    "    cmd=comdic[comprev]+\"\\n\"\n",
    "    \n",
    "    estado=\"\\n\\n -Dispositivo de medición: \"+dsp+\" -Comando actual: \"+cmd\n",
    "    \n",
    "    return estado"
   ]
  },
  {
   "cell_type": "code",
   "execution_count": null,
   "metadata": {},
   "outputs": [],
   "source": [
    "## Funcion que permite ingresar comandos desde consola ->OBSOLETA en Test\n",
    "def comandos():\n",
    "    \"Funcion que permite ingresar comandos desde consola\"\n",
    "    global comando, close, comdic, comprev\n",
    "    while comando!=close:\n",
    "        comando1 =input(\"\\ningrese comando:\\n  0. Cargar nueva configuracion\\n  1. Iniciar medicion\\n  2. Detener medicion\\n  4. Estado\\n  5. Salir\\n\")\n",
    "        if comando1 in comdic:\n",
    "            comprev=comando\n",
    "            comando=comando1\n",
    "            print(comdic[comando])\n",
    "        else:\n",
    "            print(\"el comando {} no se reconoce\".format(comando1))"
   ]
  },
  {
   "cell_type": "code",
   "execution_count": 22,
   "metadata": {},
   "outputs": [],
   "source": [
    "def medir_LCR(parametro=0):\n",
    "    \"Rutina que toma las mediciones del instrumento serie\"\n",
    "    global comando,start, variables, device\n",
    "    #Acá va la funcion que mide las variables de CAPEM y del instrumento \n",
    "    escritura=0\n",
    "    #Lectura de LCR\n",
    "        \n",
    "    wr=bytes(\"121\",\"utf-8\") #-->Reemplazar por los comandos al LCR\n",
    "    device.write(wr)\n",
    "    time.sleep(0.5)\n",
    "    resp=device.read(3)\n",
    "    print(resp.decode('utf-8'))\n",
    "    #print(datetime.datetime.now())\n",
    "    \n",
    "    return resp.decode('utf-8')"
   ]
  },
  {
   "cell_type": "code",
   "execution_count": 2,
   "metadata": {},
   "outputs": [],
   "source": [
    "def leer_server(): #->Listo en TEST\n",
    "    global servidor\n",
    "    servidor.connect((HOST, PORT))\n",
    "           \n",
    "    envio=\"datos\".encode(\"ascii\")\n",
    "    servidor.sendall(envio)\n",
    "    data = servidor.recv(1024).decode(\"ascii\")\n",
    "    print(str(data))\n",
    "    time.sleep(0.5)\n",
    "        \n",
    "\n",
    "def interpretar_posicion():\n",
    "    res=1\n",
    "    return res"
   ]
  },
  {
   "cell_type": "markdown",
   "metadata": {},
   "source": [
    "### Rutina principal"
   ]
  },
  {
   "cell_type": "code",
   "execution_count": null,
   "metadata": {
    "id": "BedMLAbLi4P7",
    "jp-MarkdownHeadingCollapsed": true,
    "tags": []
   },
   "outputs": [],
   "source": [
    "##### Concectar puerto serie\n",
    "\n",
    "#if device.port==None:\n",
    "    #device=serial.Serial(port=\"COM3\",baudrate=19200,bytesize=8, parity=\"N\", stopbits=1, timeout=10)\n",
    "#elif device.isOpen()==False:\n",
    "   # device.open()\n",
    "##### Thread 2, Busca comandos\n",
    "th2=th.Thread(target=comandos,name=\"th2\")\n",
    "th2.start()\n",
    "servidor=socket.socket(socket.AF_INET, socket.SOCK_STREAM)\n",
    "## Loop principal\n",
    "while comando != close:\n",
    "    if comando == status:\n",
    "        sts=check_estado()\n",
    "        print(sts)\n",
    "        comando=comprev\n",
    "    if comando == start:\n",
    "        leer_server()\n",
    "        interpretar_posicion()\n",
    "        try:\n",
    "            for freq in frecuencias:\n",
    "                #setear_LCR()\n",
    "                time.sleep(2) #-> Tiempo de estabilización del LCR\n",
    "                for rep in enumerate(repeticiones):\n",
    "                    medir_LCR()                    \n",
    "        except StopIteration:\n",
    "            pass\n",
    "    if comando == config:\n",
    "        frecuencias=configurar()\n",
    "        comando=stop\n",
    "        \n",
    "\n",
    "print(\"Programa finalizado\")\n",
    "if device.isOpen() == True:\n",
    "    device.close()\n",
    "   \n",
    "\n",
    "    "
   ]
  }
 ],
 "metadata": {
  "colab": {
   "provenance": []
  },
  "kernelspec": {
   "display_name": "Python 3",
   "language": "python",
   "name": "python3"
  },
  "language_info": {
   "codemirror_mode": {
    "name": "ipython",
    "version": 3
   },
   "file_extension": ".py",
   "mimetype": "text/x-python",
   "name": "python",
   "nbconvert_exporter": "python",
   "pygments_lexer": "ipython3",
   "version": "3.11.2"
  },
  "vscode": {
   "interpreter": {
    "hash": "dba16d1aa225647641ef1dd6cc7188343f87f03bfc47cb0291f5cda1f377f3e5"
   }
  }
 },
 "nbformat": 4,
 "nbformat_minor": 4
}
