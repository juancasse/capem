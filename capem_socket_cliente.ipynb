{
 "cells": [
  {
   "cell_type": "code",
   "execution_count": 1,
   "metadata": {},
   "outputs": [],
   "source": [
    "import socket\n",
    "from time import sleep"
   ]
  },
  {
   "cell_type": "code",
   "execution_count": 4,
   "metadata": {},
   "outputs": [
    {
     "name": "stdout",
     "output_type": "stream",
     "text": [
      "[1, 7, 1]\n",
      "[1, 7, 1]\n",
      "[1, 7, 1]\n",
      "[1, 7, 1]\n",
      "[1, 8, 1]\n",
      "[0, 8, 0]\n",
      "[0, 8, 0]\n",
      "[1, 8, 1]\n",
      "[1, 8, 1]\n",
      "[1, 8, 1]\n",
      "[1, 8, 1]\n",
      "[1, 8, 1]\n",
      "[0, 9, 0]\n",
      "[0, 9, 0]\n",
      "[0, 9, 0]\n",
      "[1, 9, 1]\n",
      "[1, 9, 1]\n",
      "[1, 9, 1]\n",
      "[1, 9, 1]\n"
     ]
    },
    {
     "ename": "KeyboardInterrupt",
     "evalue": "",
     "output_type": "error",
     "traceback": [
      "\u001b[1;31m---------------------------------------------------------------------------\u001b[0m",
      "\u001b[1;31mKeyboardInterrupt\u001b[0m                         Traceback (most recent call last)",
      "Cell \u001b[1;32mIn[4], line 10\u001b[0m\n\u001b[0;32m      8\u001b[0m envio\u001b[39m=\u001b[39m\u001b[39mstr\u001b[39m(cuenta)\u001b[39m.\u001b[39mencode(\u001b[39m\"\u001b[39m\u001b[39mascii\u001b[39m\u001b[39m\"\u001b[39m)\n\u001b[0;32m      9\u001b[0m s\u001b[39m.\u001b[39msendall(envio)\n\u001b[1;32m---> 10\u001b[0m data \u001b[39m=\u001b[39m s\u001b[39m.\u001b[39;49mrecv(\u001b[39m1024\u001b[39;49m)\u001b[39m.\u001b[39mdecode(\u001b[39m\"\u001b[39m\u001b[39mascii\u001b[39m\u001b[39m\"\u001b[39m)\n\u001b[0;32m     11\u001b[0m \u001b[39mprint\u001b[39m(\u001b[39mstr\u001b[39m(data))\n\u001b[0;32m     12\u001b[0m sleep(\u001b[39m0.5\u001b[39m)\n",
      "\u001b[1;31mKeyboardInterrupt\u001b[0m: "
     ]
    }
   ],
   "source": [
    "HOST = \"192.168.99.10\"  # The server's hostname or IP address\n",
    "PORT = 9999  # The port used by the server\n",
    "cuenta=\"valor\"\n",
    "with socket.socket(socket.AF_INET, socket.SOCK_STREAM) as s:\n",
    "    s.connect((HOST, PORT))\n",
    "    while True:\n",
    "        \n",
    "        envio=str(cuenta).encode(\"ascii\")\n",
    "        s.sendall(envio)\n",
    "        data = s.recv(1024).decode(\"ascii\")\n",
    "        print(str(data))\n",
    "        sleep(0.5)\n",
    "        \n",
    "\n"
   ]
  },
  {
   "cell_type": "code",
   "execution_count": 9,
   "metadata": {},
   "outputs": [
    {
     "name": "stdout",
     "output_type": "stream",
     "text": [
      "Help on built-in function recv:\n",
      "\n",
      "recv(...) method of socket.socket instance\n",
      "    recv(buffersize[, flags]) -> data\n",
      "    \n",
      "    Receive up to buffersize bytes from the socket.  For the optional flags\n",
      "    argument, see the Unix manual.  When no data is available, block until\n",
      "    at least one byte is available or until the remote end is closed.  When\n",
      "    the remote end is closed and all data is read, return the empty string.\n",
      "\n"
     ]
    }
   ],
   "source": [
    "help(s.recv)"
   ]
  },
  {
   "cell_type": "code",
   "execution_count": null,
   "metadata": {},
   "outputs": [],
   "source": []
  }
 ],
 "metadata": {
  "kernelspec": {
   "display_name": "Python 3",
   "language": "python",
   "name": "python3"
  },
  "language_info": {
   "codemirror_mode": {
    "name": "ipython",
    "version": 3
   },
   "file_extension": ".py",
   "mimetype": "text/x-python",
   "name": "python",
   "nbconvert_exporter": "python",
   "pygments_lexer": "ipython3",
   "version": "3.11.2"
  },
  "orig_nbformat": 4,
  "vscode": {
   "interpreter": {
    "hash": "dba16d1aa225647641ef1dd6cc7188343f87f03bfc47cb0291f5cda1f377f3e5"
   }
  }
 },
 "nbformat": 4,
 "nbformat_minor": 2
}
