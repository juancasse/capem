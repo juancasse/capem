{
 "cells": [
  {
   "cell_type": "code",
   "execution_count": 1,
   "metadata": {
    "id": "RPCa7izmhU7U",
    "scrolled": true
   },
   "outputs": [],
   "source": [
    "import OpenOPC as OP\n",
    "#import threading as th\n",
    "import pywintypes\n",
    "#import time\n",
    "pywintypes.datetime=pywintypes.TimeType\n",
    "import socket"
   ]
  },
  {
   "cell_type": "markdown",
   "metadata": {
    "tags": []
   },
   "source": [
    "### Definicion de variables globales"
   ]
  },
  {
   "cell_type": "code",
   "execution_count": 2,
   "metadata": {},
   "outputs": [],
   "source": [
    "opcserver = \"ABB.AC800MC_OpcDaSarver.3\"\n",
    "\n",
    "#lista de comandos:\n",
    "#cerrar: finaliza el programa\n",
    "close=\"5\"\n",
    "#iniciar: inicia la medicion\n",
    "start= \"1\"\n",
    "#detener: detiene la medicion\n",
    "stop=\"2\"\n",
    "#Diccionario para mensajes luego de los comandos\n",
    "comdic={start:\"Interfaz iniciada\", stop:\"Interfaz detenida\", close:\"Cerrando programa\"}\n",
    "comando=stop\n",
    "comprev=comando\n",
    "variables=[]"
   ]
  },
  {
   "attachments": {},
   "cell_type": "markdown",
   "metadata": {},
   "source": [
    "Conecto con el servidor OPC"
   ]
  },
  {
   "cell_type": "code",
   "execution_count": 3,
   "metadata": {},
   "outputs": [],
   "source": [
    "opc=OP.client()\n",
    "opc.connect('ABB.AC800MC_OpcDaServer.3')"
   ]
  },
  {
   "cell_type": "markdown",
   "metadata": {},
   "source": [
    "### Funciones\n"
   ]
  },
  {
   "cell_type": "code",
   "execution_count": 4,
   "metadata": {},
   "outputs": [],
   "source": [
    "## Funcion que permite ingresar comandos desde consola\n",
    "def comandos():\n",
    "    \"Funcion que permite ingresar comandos desde consola\"\n",
    "    global comando, close, comdic, comprev\n",
    "    \n",
    "    while comando!=close:\n",
    "        comando1 =input(\"\\ningrese comando:\\n  1. Iniciar interfaz\\n  2. Detener interfaz\\n  5. Salir\\n\")\n",
    "        if comando1 in comdic:\n",
    "            comprev=comando\n",
    "            comando=comando1\n",
    "            print(comdic[comando])\n",
    "        else:\n",
    "            print(\"el comando {} no se reconoce\".format(comando1))"
   ]
  },
  {
   "cell_type": "code",
   "execution_count": 5,
   "metadata": {},
   "outputs": [],
   "source": [
    "#funcion que lee el OPC\n",
    "def actualizar():\n",
    "    vars=list(opc.read([\"Applications.Application_1.b1\",\"Applications.Application_1.Program2.int1\",\"Applications.Application_1.Program2.bool2\"]))\n",
    "    vars2= [0]+list(map((lambda x: 1 if x[1]==True else (0 if x[1]==False else x[1])),vars))\n",
    "    return vars2"
   ]
  },
  {
   "cell_type": "markdown",
   "metadata": {},
   "source": [
    "listas=e[1:-1].split(\",\")\n",
    "listas"
   ]
  },
  {
   "cell_type": "markdown",
   "metadata": {},
   "source": [
    "### Rutina principal"
   ]
  },
  {
   "cell_type": "code",
   "execution_count": 6,
   "metadata": {
    "id": "BedMLAbLi4P7",
    "jp-MarkdownHeadingCollapsed": true,
    "tags": []
   },
   "outputs": [
    {
     "name": "stdout",
     "output_type": "stream",
     "text": [
      "Connected by ('192.168.99.15', 53642)\n",
      "Connected by ('192.168.99.15', 53643)\n",
      "Connected by ('192.168.99.15', 53644)\n",
      "Connected by ('192.168.99.15', 53645)\n"
     ]
    }
   ],
   "source": [
    "##### Thread 2, Busca comandos\n",
    "#th2=th.Thread(target=comandos,name=\"th2\")\n",
    "#th2.start()\n",
    "#th1=th.Thread(target=comandos,name=\"th1\")\n",
    "host=\"192.168.99.10\"\n",
    "port=9999\n",
    "with socket.socket(socket.AF_INET, socket.SOCK_STREAM) as s:\n",
    "    s.bind((host, port))\n",
    "    ## Loop principal\n",
    "    while True:\n",
    "        s.listen()\n",
    "        conn, addr = s.accept()\n",
    "        with conn:\n",
    "            print(f\"Connected by {addr}\")\n",
    "            while True:\n",
    "                datos=actualizar()\n",
    "                data = conn.recv(1024).decode(\"ascii\")\n",
    "                if not data or data==\"cerrar\":\n",
    "                    break\n",
    "                #print(data)\n",
    "                if data==\"hs\":\n",
    "                    resp=b\"hs\"\n",
    "                elif 0<=int(data)<=1000 and datos!=None:\n",
    "                    cn=int(data)\n",
    "                    datos[0]=cn\n",
    "                    #res=data+\",\"+str(datos)\n",
    "                    #print(res)\n",
    "                    resp=str(datos).encode(\"ascii\")\n",
    "                ##resp=str(actualizar()).encode(\"ascii\")\n",
    "                #resp=responder(data) \n",
    "                #resp=b'25.75,5.45,12.152,456,456.2,1,3215,123,123,123,515,15,681,6,313,6,5558, abcde,int32,mi vieja mula ya no es lo que era'\n",
    "                conn.sendall(resp)  "
   ]
  },
  {
   "cell_type": "code",
   "execution_count": null,
   "metadata": {},
   "outputs": [],
   "source": []
  }
 ],
 "metadata": {
  "colab": {
   "provenance": []
  },
  "kernelspec": {
   "display_name": "Python 3",
   "language": "python",
   "name": "python3"
  },
  "language_info": {
   "codemirror_mode": {
    "name": "ipython",
    "version": 3
   },
   "file_extension": ".py",
   "mimetype": "text/x-python",
   "name": "python",
   "nbconvert_exporter": "python",
   "pygments_lexer": "ipython3",
   "version": "3.11.2"
  },
  "vscode": {
   "interpreter": {
    "hash": "5c9e4279eb444ea05bf93f08b25afc6fc2739aa37300b119643328965409fa8b"
   }
  }
 },
 "nbformat": 4,
 "nbformat_minor": 4
}
