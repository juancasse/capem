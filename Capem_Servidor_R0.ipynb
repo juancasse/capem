{
 "cells": [
  {
   "cell_type": "code",
   "execution_count": 96,
   "metadata": {
    "id": "RPCa7izmhU7U",
    "scrolled": true
   },
   "outputs": [],
   "source": [
    "import OpenOPC as OP\n",
    "import threading as th\n",
    "import pywintypes\n",
    "import time\n",
    "pywintypes.datetime=pywintypes.TimeType\n",
    "import socket"
   ]
  },
  {
   "cell_type": "markdown",
   "metadata": {
    "tags": []
   },
   "source": [
    "### Definicion de variables globales"
   ]
  },
  {
   "cell_type": "code",
   "execution_count": 3,
   "metadata": {},
   "outputs": [],
   "source": [
    "opcserver = \"ABB.AC800MC_OpcDaSarver.3\"\n",
    "\n",
    "#lista de comandos:\n",
    "#cerrar: finaliza el programa\n",
    "close=\"5\"\n",
    "#iniciar: inicia la medicion\n",
    "start= \"1\"\n",
    "#detener: detiene la medicion\n",
    "stop=\"2\"\n",
    "#Diccionario para mensajes luego de los comandos\n",
    "comdic={start:\"Interfaz iniciada\", stop:\"Interfaz detenida\", close:\"Cerrando programa\"}\n",
    "comando=stop\n",
    "comprev=comando\n",
    "variables=[]"
   ]
  },
  {
   "attachments": {},
   "cell_type": "markdown",
   "metadata": {},
   "source": [
    "Conecto con el servidor OPC"
   ]
  },
  {
   "cell_type": "code",
   "execution_count": 2,
   "metadata": {},
   "outputs": [],
   "source": [
    "opc=OP.client()\n",
    "opc.connect('ABB.AC800MC_OpcDaServer.3')"
   ]
  },
  {
   "cell_type": "markdown",
   "metadata": {},
   "source": [
    "### Funciones\n"
   ]
  },
  {
   "cell_type": "code",
   "execution_count": 8,
   "metadata": {},
   "outputs": [],
   "source": [
    "## Funcion que permite ingresar comandos desde consola\n",
    "def comandos():\n",
    "    \"Funcion que permite ingresar comandos desde consola\"\n",
    "    global comando, close, comdic, comprev\n",
    "    \n",
    "    while comando!=close:\n",
    "        comando1 =input(\"\\ningrese comando:\\n  1. Iniciar interfaz\\n  2. Detener interfaz\\n  5. Salir\\n\")\n",
    "        if comando1 in comdic:\n",
    "            comprev=comando\n",
    "            comando=comando1\n",
    "            print(comdic[comando])\n",
    "        else:\n",
    "            print(\"el comando {} no se reconoce\".format(comando1))"
   ]
  },
  {
   "cell_type": "code",
   "execution_count": 93,
   "metadata": {},
   "outputs": [],
   "source": [
    "#funcion que lee el OPC\n",
    "def actualizar():\n",
    "    vars=list(opc.read([\"Applications.Application_1.b1\",\"Applications.Application_1.Program2.int1\",\"Applications.Application_1.Program2.bool1\"]))\n",
    "    vars2= list(map((lambda x: 1 if x[1]==True else (0 if x[1]==False else x[1])),vars))\n",
    "    return vars2"
   ]
  },
  {
   "cell_type": "code",
   "execution_count": 94,
   "metadata": {},
   "outputs": [
    {
     "data": {
      "text/plain": [
       "[0, 1, 0]"
      ]
     },
     "execution_count": 94,
     "metadata": {},
     "output_type": "execute_result"
    }
   ],
   "source": [
    "actualizar()"
   ]
  },
  {
   "cell_type": "markdown",
   "metadata": {},
   "source": [
    "listas=e[1:-1].split(\",\")\n",
    "listas"
   ]
  },
  {
   "cell_type": "markdown",
   "metadata": {},
   "source": [
    "### Rutina principal"
   ]
  },
  {
   "cell_type": "code",
   "execution_count": 8,
   "metadata": {
    "id": "BedMLAbLi4P7",
    "jp-MarkdownHeadingCollapsed": true,
    "tags": []
   },
   "outputs": [
    {
     "name": "stdout",
     "output_type": "stream",
     "text": [
      "Interfaz iniciada\n",
      "(1, True, 4)\n",
      "(1, True, 4)\n",
      "(1, True, 4)\n",
      "Interfaz detenida\n",
      "(1, True, 4)\n",
      "Interfaz iniciada\n",
      "(1, False, 5)\n",
      "(1, False, 5)\n",
      "Interfaz detenida\n",
      "(1, True, 5)\n",
      "Cerrando programa\n"
     ]
    },
    {
     "ename": "ProgrammingError",
     "evalue": "Attempt to use a closed cursor.",
     "output_type": "error",
     "traceback": [
      "\u001b[1;31m---------------------------------------------------------------------------\u001b[0m",
      "\u001b[1;31mProgrammingError\u001b[0m                          Traceback (most recent call last)",
      "Cell \u001b[1;32mIn[8], line 14\u001b[0m\n\u001b[0;32m     11\u001b[0m         cursor\u001b[39m.\u001b[39mclose()\n\u001b[0;32m     12\u001b[0m         time\u001b[39m.\u001b[39msleep(\u001b[39m0.5\u001b[39m)   \n\u001b[1;32m---> 14\u001b[0m cursor\u001b[39m.\u001b[39;49mclose()\n\u001b[0;32m     15\u001b[0m \u001b[39mprint\u001b[39m(\u001b[39m\"\u001b[39m\u001b[39mPrograma finalizado\u001b[39m\u001b[39m\"\u001b[39m)\n",
      "\u001b[1;31mProgrammingError\u001b[0m: Attempt to use a closed cursor."
     ]
    }
   ],
   "source": [
    "##### Thread 2, Busca comandos\n",
    "#th2=th.Thread(target=comandos,name=\"th2\")\n",
    "#th2.start()\n",
    "#th1=th.Thread(target=comandos,name=\"th1\")\n",
    "host=\"192.168.99.10\"\n",
    "port=9999\n",
    "with socket.socket(socket.AF_INET, socket.SOCK_STREAM) as s:\n",
    "    s.bind((host, port))\n",
    "    ## Loop principal\n",
    "    while True:\n",
    "        s.listen()\n",
    "        conn, addr = s.accept()\n",
    "        with conn:\n",
    "            print(f\"Connected by {addr}\")\n",
    "            while True:\n",
    "                data = conn.recv(1024).decode(\"ascii\")\n",
    "                if not data or data==\"cerrar\":\n",
    "                    break\n",
    "                print(data)\n",
    "                resp=str(actualizar()).encode(\"ascii\")\n",
    "                #resp=responder(data) \n",
    "                #resp=b'25.75,5.45,12.152,456,456.2,1,3215,123,123,123,515,15,681,6,313,6,5558, abcde,int32,mi vieja mula ya no es lo que era'\n",
    "                conn.sendall(resp)  "
   ]
  },
  {
   "cell_type": "code",
   "execution_count": null,
   "metadata": {},
   "outputs": [],
   "source": []
  }
 ],
 "metadata": {
  "colab": {
   "provenance": []
  },
  "kernelspec": {
   "display_name": "Python 3 (ipykernel)",
   "language": "python",
   "name": "python3"
  },
  "language_info": {
   "codemirror_mode": {
    "name": "ipython",
    "version": 3
   },
   "file_extension": ".py",
   "mimetype": "text/x-python",
   "name": "python",
   "nbconvert_exporter": "python",
   "pygments_lexer": "ipython3",
   "version": "3.11.2"
  }
 },
 "nbformat": 4,
 "nbformat_minor": 4
}
