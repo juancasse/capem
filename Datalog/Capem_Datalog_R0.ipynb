{
 "cells": [
  {
   "cell_type": "code",
   "execution_count": 63,
   "metadata": {
    "id": "RPCa7izmhU7U",
    "scrolled": true
   },
   "outputs": [],
   "source": [
    "import OpenOPC as OP\n",
    "import pywintypes\n",
    "pywintypes.datetime=pywintypes.TimeType #Se usa para OpenOPC o.o\n",
    "from os.path import isfile\n",
    "import csv\n",
    "import datetime\n",
    "import tkinter as tk\n",
    "from tkinter import ttk,Canvas\n",
    "import time"
   ]
  },
  {
   "attachments": {},
   "cell_type": "markdown",
   "metadata": {
    "tags": []
   },
   "source": [
    "### Definicion de variables globales"
   ]
  },
  {
   "cell_type": "code",
   "execution_count": 64,
   "metadata": {},
   "outputs": [],
   "source": [
    "opcserver = \"ABB.AC800MC_OpcDaServer.3\"\n",
    "variables=[]\n",
    "#Defino el objeto servidor OPC\n",
    "opc=OP.client()"
   ]
  },
  {
   "attachments": {},
   "cell_type": "markdown",
   "metadata": {},
   "source": [
    "### Funciones\n"
   ]
  },
  {
   "cell_type": "code",
   "execution_count": 65,
   "metadata": {},
   "outputs": [],
   "source": [
    "#funcion que lee el OPC\n",
    "def actualizar_log():\n",
    "    #Conecto con el servidor de ABB...\n",
    "    opc.connect('ABB.AC800MC_OpcDaServer.3')\n",
    "    #...y traigo una lista de variables\n",
    "    vars=list(opc.read([\"Applications.CAPEM.LT035_mmH2O_GLOBAL.Value\", \"Applications.CAPEM.FT003_In.Value\", \"Applications.CAPEM.FT019_In.value\",\n",
    "                        \"Applications.CAPEM.FT023_In.value\", \"Applications.CAPEM.PT030_In.value\", \"Applications.CAPEM.BI005a_Out.value\",\n",
    "                        \"Applications.CAPEM.BI005b_Out.value\", \"Applications.CAPEM.BI005c_Out.value\", \"Applications.CAPEM.DPCV027_Out.value\",\n",
    "                        \"Applications.CAPEM.DPT018_In.value\", \"Applications.CAPEM.DPT022_In.value\", \"Applications.CAPEM.DPT026_In.value\",\n",
    "                        \"Applications.CAPEM.DPT027_In.value\", \"Applications.CAPEM.FV003_Out.value\", \"Applications.CAPEM.PT015_In.value\",\n",
    "                        \"Applications.CAPEM.PT021_In.value\", \"Applications.CAPEM.TI024_In.value\", \"Applications.CAPEM.TT004_In.value\",\n",
    "                        \"Applications.CAPEM.TT005_In.value\", \"Applications.CAPEM.TT016_In.value\", \"Applications.CAPEM.TT024A_In.value\",\n",
    "                        \"Applications.CAPEM.TT024B_In.value\", \"Applications.CAPEM.TT061_In.value\", \"Applications.CAPEM.TT062_In.value\",\n",
    "                        \"Applications.CAPEM.TT063_In.value\", \"Applications.CAPEM.ZI033_In.value\", \"Applications.CAPEM.DTIC024_Out.value\",\n",
    "                        \"Applications.CAPEM.FT003_In_m3h.value\", \"Applications.CAPEM.DPT012_In.value\", \"Applications.CAPEM.FT019_In_m3h.value\",\n",
    "                        \"Applications.CAPEM.PI001_In.value\", \"Applications.CAPEM.DPT110_corr.value\", \"Applications.CAPEM.DPT111_corr.value\",\n",
    "                        \"Applications.CAPEM.SistemaGP.VG002_SP\", \"Applications.CAPEM.VG002_In_reg.value\", \"Applications.CAPEM.SistemaGP.VA003_SP\",\n",
    "                        \"Applications.CAPEM.VA003_In_reg.value\", \"Applications.CAPEM.SistemaGP.VA004_SP\", \"Applications.CAPEM.VA004_In_reg.value\",\n",
    "                        \"Applications.CAPEM.SC_POS_reg.value\", \"Applications.CAPEM.SC_TESTIGO_reg.value\", \"Applications.CAPEM.VT107_In.value\",\n",
    "                        \"Applications.CAPEM.JT108_In.value\", \"Applications.CAPEM.TT105_In.value\", \"Applications.CAPEM.PT106_In.value\",\n",
    "                        \"Applications.CAPEM.PT103_In.value\", \"Applications.CAPEM.FT104_In.value\", \"Applications.CAPEM.TBCe_In.value\",\n",
    "                        \"Applications.CAPEM.FV067_Out.value\", \"Applications.CAPEM.TT101_In.value\", \"Applications.CAPEM.FT023_In_m3h.value\",\n",
    "                        \"Applications.CAPEM.SistemaGP.MSAC_1.APsubida\",\"Applications.CAPEM.SistemaGP.MSAC_1.APbajada\",\n",
    "                        \"Applications.CAPEM.SistemaGP.MSAC_1.PTsubida\",\"Applications.CAPEM.SistemaGP.MSAC_1.PTbajada\"]))\n",
    "    #Agrego un miembro en la primera posicion de la lista, que despues se va a usar para chequeo de comunicacion\n",
    "    #Reemplazo los TRUE y FALSE  por 1 y 0\n",
    "    vars2= list(map((lambda x: x[1]),vars))\n",
    "    return vars2"
   ]
  },
  {
   "cell_type": "code",
   "execution_count": 66,
   "metadata": {},
   "outputs": [],
   "source": [
    "#funcion que lee el OPC\n",
    "def actualizar_logsm():\n",
    "    #Conecto con el servidor de ABB...\n",
    "    opc.connect('ABB.AC800MC_OpcDaServer.3')\n",
    "    #...y traigo una lista de variables\n",
    "    vars=list(opc.read([\"Applications.CAPEM.DPCV027_Out.value\", \"Applications.CAPEM.DPT018_In.value\", \"Applications.CAPEM.DPT022_In.value\",\n",
    "                        \"Applications.CAPEM.DPT027_In.value\", \"Applications.CAPEM.PT015_In.value\", \"Applications.CAPEM.PT021_In.value\",\n",
    "                        \"Applications.CAPEM.TT016_In.value\", \"Applications.CAPEM.DTIC024_Out.value\",\"Applications.CAPEM.DPT012_In.value\",\n",
    "                        \"Applications.CAPEM.FT019_In_m3h.value\", \"Applications.CAPEM.FT023_In_m3h.value\"]))\n",
    "    #Agrego un miembro en la primera posicion de la lista, que despues se va a usar para chequeo de comunicacion\n",
    "    #Reemplazo los TRUE y FALSE  por 1 y 0\n",
    "    vars2= list(map((lambda x: x[1]),vars))\n",
    "    return vars2"
   ]
  },
  {
   "cell_type": "code",
   "execution_count": 67,
   "metadata": {},
   "outputs": [],
   "source": [
    "def escribir_csv(datos:list, encabezado:list, archivo:str='Mediciones\\datos.csv'):\n",
    "    \"\"\"\n",
    "    Abre un archivo CSV en modo 'append', por lo que agrega una nueva fila.\n",
    "    archivo     -> string. Formato 'carpeta\\\\archivo.csv' ('Mediciones\\probando.csv')\n",
    "    fila        -> lista con los valores a guardar\n",
    "    encabezado  -> Lista con los textos de los encabezados\n",
    "    \"\"\"\n",
    "    aux=isfile(archivo)\n",
    "    \n",
    "    with open(archivo, mode='a', newline='',) as archivo_csv:\n",
    "        writer = csv.writer(archivo_csv, delimiter=\",\")\n",
    "        if not aux:\n",
    "            writer.writerow(encabezado)\n",
    "        writer.writerow(datos)\n",
    "        \n",
    "    archivo_csv.close()"
   ]
  },
  {
   "cell_type": "code",
   "execution_count": 68,
   "metadata": {},
   "outputs": [],
   "source": [
    "encabezado=[\"Fecha\", \"Hora\", \"LT035_mmH2O\", \"FT003_In\", \"FT019_In\", \"FT023_In\", \"PT030_In\", \"BI005a_Out\", \"BI005b_Out\", \"BI005c_Out\", \"DPCV027_Out\",\n",
    "            \"DPT018_In\", \"DPT022_In\", \"DPT026_In\",\"DPT027_In\", \"FV003_Out\", \"PT015_In\", \"PT021_In\", \"TI024_In\", \"TT004_In\",\"TT005_In\", \"TT016_In\",\n",
    "            \"TT024A_In\",\"TT024B_In\", \"TT061_In\", \"TT062_In\", \"TT063_In\", \"ZI033_In\", \"DTIC024_Out\",\"FT003_In_m3h\", \"DPT012_In\", \"FT019_In_m3h\",\n",
    "            \"PI001_In\", \"DPT110_corr\", \"DPT111_corr\", \"VG002_SP\", \"VG002_In_reg\", \"VA003_SP\",\"VA003_In_reg\", \"VA004_SP\", \"VA004_In_reg\",\"SC_POS_reg\",\n",
    "            \"SC_TESTIGO_reg\", \"VT107_In\",\"JT108_In\", \"TT105_In\", \"PT106_In\", \"PT103_In\", \"FT104_In\", \"TBCe_In\",\"FV067_Out\", \"TT101_In\", \"FT023_In_m3h\",\n",
    "            \"APsubida_ms\",\"APbajada_ms\",\"PTsubida_ms\",\"PTbajada_ms\"]\n",
    "hmitime=10\n",
    "tiempo=hmitime/1000\n"
   ]
  },
  {
   "cell_type": "code",
   "execution_count": 69,
   "metadata": {},
   "outputs": [
    {
     "ename": "KeyboardInterrupt",
     "evalue": "",
     "output_type": "error",
     "traceback": [
      "\u001b[1;31m---------------------------------------------------------------------------\u001b[0m",
      "\u001b[1;31mKeyboardInterrupt\u001b[0m                         Traceback (most recent call last)",
      "Cell \u001b[1;32mIn[69], line 3\u001b[0m\n\u001b[0;32m      1\u001b[0m \u001b[39mwhile\u001b[39;00m \u001b[39mTrue\u001b[39;00m:\n\u001b[0;32m      2\u001b[0m     \u001b[39mtry\u001b[39;00m:\n\u001b[1;32m----> 3\u001b[0m         datos_guardar\u001b[39m=\u001b[39m[\u001b[39mstr\u001b[39m(datetime\u001b[39m.\u001b[39mdatetime\u001b[39m.\u001b[39mnow()\u001b[39m.\u001b[39mdate()),\u001b[39mstr\u001b[39m(datetime\u001b[39m.\u001b[39mdatetime\u001b[39m.\u001b[39mnow()\u001b[39m.\u001b[39mtime())]\u001b[39m+\u001b[39m actualizar_logsm()\n\u001b[0;32m      4\u001b[0m         \u001b[39m#print(actualizar_logsm(),str(datetime.datetime.now().time()))\u001b[39;00m\n\u001b[0;32m      5\u001b[0m         escribir_csv(datos_guardar,encabezado)\n",
      "Cell \u001b[1;32mIn[66], line 6\u001b[0m, in \u001b[0;36mactualizar_logsm\u001b[1;34m()\u001b[0m\n\u001b[0;32m      4\u001b[0m opc\u001b[39m.\u001b[39mconnect(\u001b[39m'\u001b[39m\u001b[39mABB.AC800MC_OpcDaServer.3\u001b[39m\u001b[39m'\u001b[39m)\n\u001b[0;32m      5\u001b[0m \u001b[39m#...y traigo una lista de variables\u001b[39;00m\n\u001b[1;32m----> 6\u001b[0m \u001b[39mvars\u001b[39m\u001b[39m=\u001b[39m\u001b[39mlist\u001b[39m(opc\u001b[39m.\u001b[39;49mread([\u001b[39m\"\u001b[39;49m\u001b[39mApplications.CAPEM.DPCV027_Out.value\u001b[39;49m\u001b[39m\"\u001b[39;49m, \u001b[39m\"\u001b[39;49m\u001b[39mApplications.CAPEM.DPT018_In.value\u001b[39;49m\u001b[39m\"\u001b[39;49m, \u001b[39m\"\u001b[39;49m\u001b[39mApplications.CAPEM.DPT022_In.value\u001b[39;49m\u001b[39m\"\u001b[39;49m,\n\u001b[0;32m      7\u001b[0m                     \u001b[39m\"\u001b[39;49m\u001b[39mApplications.CAPEM.DPT027_In.value\u001b[39;49m\u001b[39m\"\u001b[39;49m, \u001b[39m\"\u001b[39;49m\u001b[39mApplications.CAPEM.PT015_In.value\u001b[39;49m\u001b[39m\"\u001b[39;49m, \u001b[39m\"\u001b[39;49m\u001b[39mApplications.CAPEM.PT021_In.value\u001b[39;49m\u001b[39m\"\u001b[39;49m,\n\u001b[0;32m      8\u001b[0m                     \u001b[39m\"\u001b[39;49m\u001b[39mApplications.CAPEM.TT016_In.value\u001b[39;49m\u001b[39m\"\u001b[39;49m, \u001b[39m\"\u001b[39;49m\u001b[39mApplications.CAPEM.DTIC024_Out.value\u001b[39;49m\u001b[39m\"\u001b[39;49m,\u001b[39m\"\u001b[39;49m\u001b[39mApplications.CAPEM.DPT012_In.value\u001b[39;49m\u001b[39m\"\u001b[39;49m,\n\u001b[0;32m      9\u001b[0m                     \u001b[39m\"\u001b[39;49m\u001b[39mApplications.CAPEM.FT019_In_m3h.value\u001b[39;49m\u001b[39m\"\u001b[39;49m, \u001b[39m\"\u001b[39;49m\u001b[39mApplications.CAPEM.FT023_In_m3h.value\u001b[39;49m\u001b[39m\"\u001b[39;49m]))\n\u001b[0;32m     10\u001b[0m \u001b[39m#Agrego un miembro en la primera posicion de la lista, que despues se va a usar para chequeo de comunicacion\u001b[39;00m\n\u001b[0;32m     11\u001b[0m \u001b[39m#Reemplazo los TRUE y FALSE  por 1 y 0\u001b[39;00m\n\u001b[0;32m     12\u001b[0m vars2\u001b[39m=\u001b[39m \u001b[39mlist\u001b[39m(\u001b[39mmap\u001b[39m((\u001b[39mlambda\u001b[39;00m x: x[\u001b[39m1\u001b[39m]),\u001b[39mvars\u001b[39m))\n",
      "File \u001b[1;32mc:\\Users\\Administrator\\AppData\\Local\\Programs\\Python\\Python310-32\\lib\\site-packages\\OpenOPC.py:625\u001b[0m, in \u001b[0;36mclient.read\u001b[1;34m(self, tags, group, size, pause, source, update, timeout, sync, include_error, rebuild)\u001b[0m\n\u001b[0;32m    623\u001b[0m    \u001b[39mreturn\u001b[39;00m \u001b[39mlist\u001b[39m(results)[\u001b[39m0\u001b[39m]\n\u001b[0;32m    624\u001b[0m \u001b[39melse\u001b[39;00m:\n\u001b[1;32m--> 625\u001b[0m    \u001b[39mreturn\u001b[39;00m \u001b[39mlist\u001b[39;49m(results)\n",
      "File \u001b[1;32mc:\\Users\\Administrator\\AppData\\Local\\Programs\\Python\\Python310-32\\lib\\site-packages\\OpenOPC.py:545\u001b[0m, in \u001b[0;36mclient.iread\u001b[1;34m(self, tags, group, size, pause, source, update, timeout, sync, include_error, rebuild)\u001b[0m\n\u001b[0;32m    542\u001b[0m \u001b[39mif\u001b[39;00m now \u001b[39m-\u001b[39m start \u001b[39m>\u001b[39m timeout:\n\u001b[0;32m    543\u001b[0m    \u001b[39mraise\u001b[39;00m \u001b[39mTimeoutError\u001b[39;00m(\u001b[39m'\u001b[39m\u001b[39mCallback: Timeout waiting for data\u001b[39m\u001b[39m'\u001b[39m)\n\u001b[1;32m--> 545\u001b[0m \u001b[39mif\u001b[39;00m \u001b[39mself\u001b[39;49m\u001b[39m.\u001b[39;49mcallback_queue\u001b[39m.\u001b[39;49mempty():\n\u001b[0;32m    546\u001b[0m    pythoncom\u001b[39m.\u001b[39mPumpWaitingMessages()\n\u001b[0;32m    547\u001b[0m \u001b[39melse\u001b[39;00m:\n",
      "File \u001b[1;32mc:\\Users\\Administrator\\AppData\\Local\\Programs\\Python\\Python310-32\\lib\\multiprocessing\\queues.py:129\u001b[0m, in \u001b[0;36mQueue.empty\u001b[1;34m(self)\u001b[0m\n\u001b[0;32m    128\u001b[0m \u001b[39mdef\u001b[39;00m \u001b[39mempty\u001b[39m(\u001b[39mself\u001b[39m):\n\u001b[1;32m--> 129\u001b[0m     \u001b[39mreturn\u001b[39;00m \u001b[39mnot\u001b[39;00m \u001b[39mself\u001b[39;49m\u001b[39m.\u001b[39;49m_poll()\n",
      "File \u001b[1;32mc:\\Users\\Administrator\\AppData\\Local\\Programs\\Python\\Python310-32\\lib\\multiprocessing\\connection.py:257\u001b[0m, in \u001b[0;36m_ConnectionBase.poll\u001b[1;34m(self, timeout)\u001b[0m\n\u001b[0;32m    255\u001b[0m \u001b[39mself\u001b[39m\u001b[39m.\u001b[39m_check_closed()\n\u001b[0;32m    256\u001b[0m \u001b[39mself\u001b[39m\u001b[39m.\u001b[39m_check_readable()\n\u001b[1;32m--> 257\u001b[0m \u001b[39mreturn\u001b[39;00m \u001b[39mself\u001b[39;49m\u001b[39m.\u001b[39;49m_poll(timeout)\n",
      "File \u001b[1;32mc:\\Users\\Administrator\\AppData\\Local\\Programs\\Python\\Python310-32\\lib\\multiprocessing\\connection.py:330\u001b[0m, in \u001b[0;36mPipeConnection._poll\u001b[1;34m(self, timeout)\u001b[0m\n\u001b[0;32m    327\u001b[0m \u001b[39mif\u001b[39;00m (\u001b[39mself\u001b[39m\u001b[39m.\u001b[39m_got_empty_message \u001b[39mor\u001b[39;00m\n\u001b[0;32m    328\u001b[0m             _winapi\u001b[39m.\u001b[39mPeekNamedPipe(\u001b[39mself\u001b[39m\u001b[39m.\u001b[39m_handle)[\u001b[39m0\u001b[39m] \u001b[39m!=\u001b[39m \u001b[39m0\u001b[39m):\n\u001b[0;32m    329\u001b[0m     \u001b[39mreturn\u001b[39;00m \u001b[39mTrue\u001b[39;00m\n\u001b[1;32m--> 330\u001b[0m \u001b[39mreturn\u001b[39;00m \u001b[39mbool\u001b[39m(wait([\u001b[39mself\u001b[39;49m], timeout))\n",
      "File \u001b[1;32mc:\\Users\\Administrator\\AppData\\Local\\Programs\\Python\\Python310-32\\lib\\multiprocessing\\connection.py:883\u001b[0m, in \u001b[0;36mwait\u001b[1;34m(object_list, timeout)\u001b[0m\n\u001b[0;32m    880\u001b[0m \u001b[39mfinally\u001b[39;00m:\n\u001b[0;32m    881\u001b[0m     \u001b[39m# request that overlapped reads stop\u001b[39;00m\n\u001b[0;32m    882\u001b[0m     \u001b[39mfor\u001b[39;00m ov \u001b[39min\u001b[39;00m ov_list:\n\u001b[1;32m--> 883\u001b[0m         ov\u001b[39m.\u001b[39;49mcancel()\n\u001b[0;32m    885\u001b[0m     \u001b[39m# wait for all overlapped reads to stop\u001b[39;00m\n\u001b[0;32m    886\u001b[0m     \u001b[39mfor\u001b[39;00m ov \u001b[39min\u001b[39;00m ov_list:\n",
      "\u001b[1;31mKeyboardInterrupt\u001b[0m: "
     ]
    }
   ],
   "source": [
    "while True:\n",
    "    try:\n",
    "        datos_guardar=[str(datetime.datetime.now().date()),str(datetime.datetime.now().time())]+ actualizar_logsm()\n",
    "        #print(actualizar_logsm(),str(datetime.datetime.now().time()))\n",
    "        escribir_csv(datos_guardar,encabezado)\n",
    "    except Exception as e:\n",
    "        print(str(e))  \n",
    "    #time.sleep(tiempo)"
   ]
  },
  {
   "attachments": {},
   "cell_type": "markdown",
   "metadata": {},
   "source": [
    "### Rutina principal"
   ]
  },
  {
   "attachments": {},
   "cell_type": "markdown",
   "metadata": {},
   "source": []
  },
  {
   "cell_type": "code",
   "execution_count": null,
   "metadata": {
    "id": "BedMLAbLi4P7",
    "jp-MarkdownHeadingCollapsed": true,
    "tags": []
   },
   "outputs": [
    {
     "name": "stdout",
     "output_type": "stream",
     "text": [
      "[('Applications.CAPEM.SistemaGP.MSAC_1.APsubida', 500.0, 'Good', '2023-07-03 16:49:29.151000+00:00'), ('Applications.CAPEM.SistemaGP.MSAC_1.APbajada', 500.0, 'Good', '2023-07-03 16:49:29.151000+00:00')]\n",
      "[('Applications.CAPEM.SistemaGP.MSAC_1.APsubida', 500.0, 'Good', '2023-07-03 16:49:29.627000+00:00'), ('Applications.CAPEM.SistemaGP.MSAC_1.APbajada', 500.0, 'Good', '2023-07-03 16:49:29.627000+00:00')]\n",
      "[('Applications.CAPEM.SistemaGP.MSAC_1.APsubida', 500.0, 'Good', '2023-07-03 16:49:30.174000+00:00'), ('Applications.CAPEM.SistemaGP.MSAC_1.APbajada', 500.0, 'Good', '2023-07-03 16:49:30.174000+00:00')]\n",
      "[('Applications.CAPEM.SistemaGP.MSAC_1.APsubida', 500.0, 'Good', '2023-07-03 16:49:30.576000+00:00'), ('Applications.CAPEM.SistemaGP.MSAC_1.APbajada', 500.0, 'Good', '2023-07-03 16:49:30.576000+00:00')]\n",
      "[('Applications.CAPEM.SistemaGP.MSAC_1.APsubida', 500.0, 'Good', '2023-07-03 16:49:30.925000+00:00'), ('Applications.CAPEM.SistemaGP.MSAC_1.APbajada', 500.0, 'Good', '2023-07-03 16:49:30.925000+00:00')]\n",
      "[('Applications.CAPEM.SistemaGP.MSAC_1.APsubida', 500.0, 'Good', '2023-07-03 16:49:31.426000+00:00'), ('Applications.CAPEM.SistemaGP.MSAC_1.APbajada', 500.0, 'Good', '2023-07-03 16:49:31.426000+00:00')]\n"
     ]
    },
    {
     "ename": "KeyboardInterrupt",
     "evalue": "",
     "output_type": "error",
     "traceback": [
      "\u001b[1;31m---------------------------------------------------------------------------\u001b[0m",
      "\u001b[1;31mKeyboardInterrupt\u001b[0m                         Traceback (most recent call last)",
      "Cell \u001b[1;32mIn[8], line 2\u001b[0m\n\u001b[0;32m      1\u001b[0m \u001b[39mwhile\u001b[39;00m \u001b[39mTrue\u001b[39;00m:\n\u001b[1;32m----> 2\u001b[0m     datos\u001b[39m=\u001b[39mactualizar_log()\n\u001b[0;32m      3\u001b[0m     \u001b[39mprint\u001b[39m(datos)\n",
      "Cell \u001b[1;32mIn[7], line 6\u001b[0m, in \u001b[0;36mactualizar_log\u001b[1;34m()\u001b[0m\n\u001b[0;32m      4\u001b[0m opc\u001b[39m.\u001b[39mconnect(\u001b[39m'\u001b[39m\u001b[39mABB.AC800MC_OpcDaServer.3\u001b[39m\u001b[39m'\u001b[39m)\n\u001b[0;32m      5\u001b[0m \u001b[39m#...y traigo una lista de variables\u001b[39;00m\n\u001b[1;32m----> 6\u001b[0m \u001b[39mvars\u001b[39m\u001b[39m=\u001b[39m\u001b[39mlist\u001b[39m(opc\u001b[39m.\u001b[39;49mread([\u001b[39m\"\u001b[39;49m\u001b[39mApplications.CAPEM.SistemaGP.MSAC_1.APsubida\u001b[39;49m\u001b[39m\"\u001b[39;49m,\u001b[39m\"\u001b[39;49m\u001b[39mApplications.CAPEM.SistemaGP.MSAC_1.APbajada\u001b[39;49m\u001b[39m\"\u001b[39;49m]))\n\u001b[0;32m      7\u001b[0m \u001b[39m#Agrego un miembro en la primera posicion de la lista, que despues se va a usar para chequeo de comunicacion\u001b[39;00m\n\u001b[0;32m      8\u001b[0m \u001b[39m#Reemplazo los TRUE y FALSE  por 1 y 0\u001b[39;00m\n\u001b[0;32m      9\u001b[0m \u001b[39m#vars2= list(map((lambda x: 1 if x[1]==True else (0 if x[1]==False else x[1])),vars))\u001b[39;00m\n\u001b[0;32m     10\u001b[0m \u001b[39mreturn\u001b[39;00m \u001b[39mvars\u001b[39m\n",
      "File \u001b[1;32mc:\\Users\\Administrator\\AppData\\Local\\Programs\\Python\\Python310-32\\lib\\site-packages\\OpenOPC.py:625\u001b[0m, in \u001b[0;36mclient.read\u001b[1;34m(self, tags, group, size, pause, source, update, timeout, sync, include_error, rebuild)\u001b[0m\n\u001b[0;32m    623\u001b[0m    \u001b[39mreturn\u001b[39;00m \u001b[39mlist\u001b[39m(results)[\u001b[39m0\u001b[39m]\n\u001b[0;32m    624\u001b[0m \u001b[39melse\u001b[39;00m:\n\u001b[1;32m--> 625\u001b[0m    \u001b[39mreturn\u001b[39;00m \u001b[39mlist\u001b[39;49m(results)\n",
      "File \u001b[1;32mc:\\Users\\Administrator\\AppData\\Local\\Programs\\Python\\Python310-32\\lib\\site-packages\\OpenOPC.py:545\u001b[0m, in \u001b[0;36mclient.iread\u001b[1;34m(self, tags, group, size, pause, source, update, timeout, sync, include_error, rebuild)\u001b[0m\n\u001b[0;32m    542\u001b[0m \u001b[39mif\u001b[39;00m now \u001b[39m-\u001b[39m start \u001b[39m>\u001b[39m timeout:\n\u001b[0;32m    543\u001b[0m    \u001b[39mraise\u001b[39;00m \u001b[39mTimeoutError\u001b[39;00m(\u001b[39m'\u001b[39m\u001b[39mCallback: Timeout waiting for data\u001b[39m\u001b[39m'\u001b[39m)\n\u001b[1;32m--> 545\u001b[0m \u001b[39mif\u001b[39;00m \u001b[39mself\u001b[39;49m\u001b[39m.\u001b[39;49mcallback_queue\u001b[39m.\u001b[39;49mempty():\n\u001b[0;32m    546\u001b[0m    pythoncom\u001b[39m.\u001b[39mPumpWaitingMessages()\n\u001b[0;32m    547\u001b[0m \u001b[39melse\u001b[39;00m:\n",
      "File \u001b[1;32mc:\\Users\\Administrator\\AppData\\Local\\Programs\\Python\\Python310-32\\lib\\multiprocessing\\queues.py:129\u001b[0m, in \u001b[0;36mQueue.empty\u001b[1;34m(self)\u001b[0m\n\u001b[0;32m    128\u001b[0m \u001b[39mdef\u001b[39;00m \u001b[39mempty\u001b[39m(\u001b[39mself\u001b[39m):\n\u001b[1;32m--> 129\u001b[0m     \u001b[39mreturn\u001b[39;00m \u001b[39mnot\u001b[39;00m \u001b[39mself\u001b[39;49m\u001b[39m.\u001b[39;49m_poll()\n",
      "File \u001b[1;32mc:\\Users\\Administrator\\AppData\\Local\\Programs\\Python\\Python310-32\\lib\\multiprocessing\\connection.py:257\u001b[0m, in \u001b[0;36m_ConnectionBase.poll\u001b[1;34m(self, timeout)\u001b[0m\n\u001b[0;32m    255\u001b[0m \u001b[39mself\u001b[39m\u001b[39m.\u001b[39m_check_closed()\n\u001b[0;32m    256\u001b[0m \u001b[39mself\u001b[39m\u001b[39m.\u001b[39m_check_readable()\n\u001b[1;32m--> 257\u001b[0m \u001b[39mreturn\u001b[39;00m \u001b[39mself\u001b[39;49m\u001b[39m.\u001b[39;49m_poll(timeout)\n",
      "File \u001b[1;32mc:\\Users\\Administrator\\AppData\\Local\\Programs\\Python\\Python310-32\\lib\\multiprocessing\\connection.py:330\u001b[0m, in \u001b[0;36mPipeConnection._poll\u001b[1;34m(self, timeout)\u001b[0m\n\u001b[0;32m    327\u001b[0m \u001b[39mif\u001b[39;00m (\u001b[39mself\u001b[39m\u001b[39m.\u001b[39m_got_empty_message \u001b[39mor\u001b[39;00m\n\u001b[0;32m    328\u001b[0m             _winapi\u001b[39m.\u001b[39mPeekNamedPipe(\u001b[39mself\u001b[39m\u001b[39m.\u001b[39m_handle)[\u001b[39m0\u001b[39m] \u001b[39m!=\u001b[39m \u001b[39m0\u001b[39m):\n\u001b[0;32m    329\u001b[0m     \u001b[39mreturn\u001b[39;00m \u001b[39mTrue\u001b[39;00m\n\u001b[1;32m--> 330\u001b[0m \u001b[39mreturn\u001b[39;00m \u001b[39mbool\u001b[39m(wait([\u001b[39mself\u001b[39;49m], timeout))\n",
      "File \u001b[1;32mc:\\Users\\Administrator\\AppData\\Local\\Programs\\Python\\Python310-32\\lib\\multiprocessing\\connection.py:855\u001b[0m, in \u001b[0;36mwait\u001b[1;34m(object_list, timeout)\u001b[0m\n\u001b[0;32m    852\u001b[0m \u001b[39melse\u001b[39;00m:\n\u001b[0;32m    853\u001b[0m     \u001b[39m# start an overlapped read of length zero\u001b[39;00m\n\u001b[0;32m    854\u001b[0m     \u001b[39mtry\u001b[39;00m:\n\u001b[1;32m--> 855\u001b[0m         ov, err \u001b[39m=\u001b[39m _winapi\u001b[39m.\u001b[39;49mReadFile(fileno(), \u001b[39m0\u001b[39;49m, \u001b[39mTrue\u001b[39;49;00m)\n\u001b[0;32m    856\u001b[0m     \u001b[39mexcept\u001b[39;00m \u001b[39mOSError\u001b[39;00m \u001b[39mas\u001b[39;00m e:\n\u001b[0;32m    857\u001b[0m         ov, err \u001b[39m=\u001b[39m \u001b[39mNone\u001b[39;00m, e\u001b[39m.\u001b[39mwinerror\n",
      "\u001b[1;31mKeyboardInterrupt\u001b[0m: "
     ]
    }
   ],
   "source": [
    "while True:\n",
    "    datos=actualizar_log()\n",
    "    print(datos)\n",
    "\n"
   ]
  },
  {
   "cell_type": "code",
   "execution_count": null,
   "metadata": {},
   "outputs": [],
   "source": [
    "\n",
    "#Creo el objeto socket para comunicar con la otra PC\n",
    "with socket.socket(socket.AF_INET, socket.SOCK_STREAM) as s:\n",
    "    #Asocio el socket al puerto\n",
    "    s.bind(('', port))\n",
    "    ## Loop principal\n",
    "    while True:\n",
    "        #Con listen() habilito a escuchar conexiones y con accept() la acepto\n",
    "        s.listen()\n",
    "        conn, addr = s.accept() #devuelve conn que es como un nuevo socket exclusivo (creo)\n",
    "        with conn:\n",
    "            try:\n",
    "                print(f\"Connected by {addr}\")\n",
    "                #Mientras está la conexion se ejecuta el loop de envío de datos\n",
    "                while True:\n",
    "                    datos=actualizar()                      #Los traigo de OPC\n",
    "                    data = conn.recv(1024).decode(\"ascii\")  #Decodifico los datos enviados desde la otra PC\n",
    "                    if not data or data==\"cerrar\":\n",
    "                        break\n",
    "                    #print(data)\n",
    "                    if data==\"hs\":                          #Uso hs para realizar un handshake con la otra PC cuando se conecta (solo una vez)\n",
    "                        resp=b\"hs\"\n",
    "                    elif 0<=int(data)<=1000 and datos!=None:#Si lo que envía la PC es un numero es porque píde datos de OPC\n",
    "                        cn=int(data)\n",
    "                        datos[0]=cn \n",
    "                        #print(datos)                        #el dato que envía es un numero de confirmación, por lo que tengo que enviarlo en la pos 0\n",
    "                        resp=str(datos).encode(\"ascii\")     #Codifico los datos de OPC mas el cn\n",
    "\n",
    "                    conn.sendall(resp)                      #y lo mando a la otra PC\n",
    "            except Exception as e:\n",
    "                print(str(e))"
   ]
  }
 ],
 "metadata": {
  "colab": {
   "provenance": []
  },
  "kernelspec": {
   "display_name": "Python 3",
   "language": "python",
   "name": "python3"
  },
  "language_info": {
   "codemirror_mode": {
    "name": "ipython",
    "version": 3
   },
   "file_extension": ".py",
   "mimetype": "text/x-python",
   "name": "python",
   "nbconvert_exporter": "python",
   "pygments_lexer": "ipython3",
   "version": "3.10.11"
  },
  "vscode": {
   "interpreter": {
    "hash": "5c9e4279eb444ea05bf93f08b25afc6fc2739aa37300b119643328965409fa8b"
   }
  }
 },
 "nbformat": 4,
 "nbformat_minor": 4
}
