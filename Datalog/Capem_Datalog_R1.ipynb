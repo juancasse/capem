{
 "cells": [
  {
   "cell_type": "code",
   "execution_count": 1,
   "metadata": {
    "id": "RPCa7izmhU7U",
    "scrolled": true
   },
   "outputs": [],
   "source": [
    "import OpenOPC as OP\n",
    "import pywintypes\n",
    "pywintypes.datetime=pywintypes.TimeType #Se usa para OpenOPC o.o\n",
    "from os.path import isfile\n",
    "import threading\n",
    "import csv\n",
    "import datetime\n",
    "import tkinter as tk\n",
    "from tkinter import ttk,Canvas\n",
    "import time\n",
    "#import numpy as np"
   ]
  },
  {
   "attachments": {},
   "cell_type": "markdown",
   "metadata": {},
   "source": [
    "### Funciones\n"
   ]
  },
  {
   "cell_type": "code",
   "execution_count": 2,
   "metadata": {},
   "outputs": [],
   "source": [
    "#Funcion que se ejecuta cuando se da el boton INICIAR de hmi\n",
    "#Cambia los colores y modifica la variable 'iniciar_log'\n",
    "def iniciar():\n",
    "    global iniciar_log\n",
    "    if iniciar_log:\n",
    "        iniciar_log=False\n",
    "        HMI.btn_iniciar.config(text=\"INICIAR\\nDATALOG\",**neutro)\n",
    "    else:\n",
    "        iniciar_log=True\n",
    "        HMI.btn_iniciar.config(text=\"DETENER\\nDATALOG\", **verde)"
   ]
  },
  {
   "cell_type": "code",
   "execution_count": 3,
   "metadata": {},
   "outputs": [],
   "source": [
    "#funcion que lee el OPC\n",
    "def actualizar_log():\n",
    "    #Conecto con el servidor de ABB...\n",
    "    opc.connect('ABB.AC800MC_OpcDaServer.3')\n",
    "    #...y traigo una lista de variables\n",
    "    vars=list(opc.read([\"Applications.CAPEM.LT035_mmH2O_GLOBAL.Value\", \"Applications.CAPEM.FT003_In.Value\", \"Applications.CAPEM.FT019_In.value\",\n",
    "                        \"Applications.CAPEM.FT023_In.value\", \"Applications.CAPEM.PT030_In.value\", \"Applications.CAPEM.BI005a_Out.value\",\n",
    "                        \"Applications.CAPEM.BI005b_Out.value\", \"Applications.CAPEM.BI005c_Out.value\", \"Applications.CAPEM.DPCV027_Out.value\",\n",
    "                        \"Applications.CAPEM.DPT018_In.value\", \"Applications.CAPEM.DPT022_In.value\", \"Applications.CAPEM.DPT026_In.value\",\n",
    "                        \"Applications.CAPEM.DPT027_In.value\", \"Applications.CAPEM.FV003_Out.value\", \"Applications.CAPEM.PT015_In.value\",\n",
    "                        \"Applications.CAPEM.PT021_In.value\", \"Applications.CAPEM.TI024_In.value\", \"Applications.CAPEM.TT004_In.value\",\n",
    "                        \"Applications.CAPEM.TT005_In.value\", \"Applications.CAPEM.TT016_In.value\", \"Applications.CAPEM.TT024A_In.value\",\n",
    "                        \"Applications.CAPEM.TT024B_In.value\", \"Applications.CAPEM.TT061_In.value\", \"Applications.CAPEM.TT062_In.value\",\n",
    "                        \"Applications.CAPEM.TT063_In.value\", \"Applications.CAPEM.ZI033_In.value\", \"Applications.CAPEM.DTIC024_Out.value\",\n",
    "                        \"Applications.CAPEM.FT003_In_m3h.value\", \"Applications.CAPEM.DPT012_In.value\", \"Applications.CAPEM.FT019_In_m3h.value\",\n",
    "                        \"Applications.CAPEM.PI001_In.value\", \"Applications.CAPEM.DPT110_corr.value\", \"Applications.CAPEM.DPT111_corr.value\",\n",
    "                        \"Applications.CAPEM.SistemaGP.VG002_SP\", \"Applications.CAPEM.VG002_In_reg.value\", \"Applications.CAPEM.SistemaGP.VA003_SP\",\n",
    "                        \"Applications.CAPEM.VA003_In_reg.value\", \"Applications.CAPEM.SistemaGP.VA004_SP\", \"Applications.CAPEM.VA004_In_reg.value\",\n",
    "                        \"Applications.CAPEM.SC_POS_reg.value\", \"Applications.CAPEM.SC_TESTIGO_reg.value\", \"Applications.CAPEM.VT107_In.value\",\n",
    "                        \"Applications.CAPEM.JT108_In.value\", \"Applications.CAPEM.TT105_In.value\", \"Applications.CAPEM.PT106_In.value\",\n",
    "                        \"Applications.CAPEM.PT103_In.value\", \"Applications.CAPEM.FT104_In.value\", \"Applications.CAPEM.TBCe_In.value\",\n",
    "                        \"Applications.CAPEM.FV067_Out.value\", \"Applications.CAPEM.TT101_In.value\", \"Applications.CAPEM.FT023_In_m3h.value\",\n",
    "                        \"Applications.CAPEM.SistemaGP.MSAC_1.APsubida\",\"Applications.CAPEM.SistemaGP.MSAC_1.APbajada\",\n",
    "                        \"Applications.CAPEM.SistemaGP.MSAC_1.PTsubida\",\"Applications.CAPEM.SistemaGP.MSAC_1.PTbajada\"]))\n",
    "    \n",
    "    #Extraigo solamente los valores de los datos traidos\n",
    "    vars2= list(map((lambda x: x[1]),vars))\n",
    "    return vars2"
   ]
  },
  {
   "cell_type": "code",
   "execution_count": 5,
   "metadata": {},
   "outputs": [],
   "source": [
    "#Clase donde se programa la HMI\n",
    "#Se crea a partir de Thread para que se ejecute en un hilo aparte\n",
    "class App(threading.Thread):\n",
    "\n",
    "    def __init__(self):\n",
    "        threading.Thread.__init__(self)\n",
    "        #self.daemon=True\n",
    "        self.start()\n",
    "\n",
    "    def callback(self):\n",
    "        self.root.quit()\n",
    "\n",
    "    def run(self):\n",
    "        #VENTANA PRINCIPAL\n",
    "        self.root = tk.Tk()\n",
    "        self.root.protocol(\"WM_DELETE_WINDOW\", self.callback)\n",
    "        self.root.title(\"LOG CAPEM\")\n",
    "        self.root.config(width=250, height=200,bg='#f5f5f5')\n",
    "        #self.canvas=Canvas(self.root,width=549, height=375)\n",
    "\n",
    "        #BOTONES\n",
    "        self.btn_iniciar= tk.Button(text=\"INICIAR\\nDATALOG\", command=iniciar,relief=\"groove\", activebackground='#9ACBFB', **neutro, state=tk.DISABLED)\n",
    "        self.btn_iniciar.place(x=50, y=100,width=150, height=60)\n",
    "\n",
    "        #LABELS\n",
    "         \n",
    "        self.lbl_gral1=ttk.Label(text=\"...\", padding=2, relief=\"groove\",borderwidth=1,width=34,**neutro)\n",
    "        self.lbl_gral1.place(x=3, y=175)  \n",
    "        \n",
    "\n",
    "        #ENTRADAS DE TEXTO\n",
    "        self.lbl_etiqueta=ttk.Label(text=\"Nombre de archivo:\", relief='flat', **neutro)\n",
    "        self.lbl_etiqueta.place(x=3, y=3)\n",
    "\n",
    "        self.entrada=ttk.Entry()\n",
    "        self.entrada.place(x=3, y=23,width=244, height=20)\n",
    "\n",
    "        self.lbl_delay=ttk.Label(text=\"Tiempo agregado [ms]:\", relief='flat', **neutro)\n",
    "        self.lbl_delay.place(x=3, y=50) \n",
    "\n",
    "        self.time=ttk.Entry()\n",
    "        self.time.place(x=171, y=50,width=76, height=20)\n",
    "    \n",
    "        self.root.mainloop()\n",
    "    "
   ]
  },
  {
   "attachments": {},
   "cell_type": "markdown",
   "metadata": {
    "tags": []
   },
   "source": [
    "### Definicion de variables globales"
   ]
  },
  {
   "cell_type": "code",
   "execution_count": 6,
   "metadata": {},
   "outputs": [],
   "source": [
    "#Header del excel\n",
    "encabezado=[\"Fecha\", \"Hora\", \"LT035_mmH2O\", \"FT003_In\", \"FT019_In\", \"FT023_In\", \"PT030_In\", \"BI005a_Out\", \"BI005b_Out\", \"BI005c_Out\", \"DPCV027_Out\",\n",
    "            \"DPT018_In\", \"DPT022_In\", \"DPT026_In\",\"DPT027_In\", \"FV003_Out\", \"PT015_In\", \"PT021_In\", \"TI024_In\", \"TT004_In\",\"TT005_In\", \"TT016_In\",\n",
    "            \"TT024A_In\",\"TT024B_In\", \"TT061_In\", \"TT062_In\", \"TT063_In\", \"ZI033_In\", \"DTIC024_Out\",\"FT003_In_m3h\", \"DPT012_In\", \"FT019_In_m3h\",\n",
    "            \"PI001_In\", \"DPT110_corr\", \"DPT111_corr\", \"VG002_SP\", \"VG002_In_reg\", \"VA003_SP\",\"VA003_In_reg\", \"VA004_SP\", \"VA004_In_reg\",\"SC_POS_reg\",\n",
    "            \"SC_TESTIGO_reg\", \"VT107_In\",\"JT108_In\", \"TT105_In\", \"PT106_In\", \"PT103_In\", \"FT104_In\", \"TBCe_In\",\"FV067_Out\", \"TT101_In\", \"FT023_In_m3h\",\n",
    "            \"APsubida_ms\",\"APbajada_ms\",\"PTsubida_ms\",\"PTbajada_ms\"]\n",
    "\n",
    "#Colores para HMI\n",
    "verde={'background':'#4BF24B', 'foreground':'black','font':(\"Arial\",9,'bold')}\n",
    "neutro={'background':'#f0f0f0', 'foreground':'black','font':(\"Arial\",9)}\n",
    "\n",
    "#Variable que inicia el guardado de datos (se activa con la funcion iniciar ligada al boton)\n",
    "iniciar_log=False\n",
    "\n",
    "#Defino el objeto servidor OPC\n",
    "opc=OP.client()\n",
    "opcserver = \"ABB.AC800MC_OpcDaServer.3\""
   ]
  },
  {
   "cell_type": "code",
   "execution_count": 7,
   "metadata": {},
   "outputs": [],
   "source": [
    "#Se crea el objeto HMI (crea y ejecuta la clase creada mas arriba)\n",
    "HMI = App()\n",
    "time.sleep(2)"
   ]
  },
  {
   "cell_type": "code",
   "execution_count": 8,
   "metadata": {},
   "outputs": [],
   "source": [
    "#Mientras no se cierre la HMI...\n",
    "while HMI.is_alive():\n",
    "    try:\n",
    "        #Una vez que se le da iniciar desde el boton, se abre el archivo CSV para ir guardando datos\n",
    "        if iniciar_log:\n",
    "            HMI.lbl_gral1.config(text='LOG INICIADO')\n",
    "            archivocsv=open(archivo, mode='a', newline='',)\n",
    "            writer = csv.writer(archivocsv, delimiter=\",\")\n",
    "\n",
    "            if not aux:\n",
    "                #Si no existe existia el archivo, lo primero que hace es escribir el headeer\n",
    "                writer.writerow(encabezado)\n",
    "                \n",
    "            while True:\n",
    "                tmp=(HMI.time.get())    #Entrada de tiempo agregado desde HMI\n",
    "                if tmp=='':\n",
    "                    tmp='0'\n",
    "                tiempo=int(tmp)/1000\n",
    "                \n",
    "                try:\n",
    "                    #Lee datos de OPC y agrega fecha y hora al principio\n",
    "                    datos_guardar=[str(datetime.datetime.now().date()),str(datetime.datetime.now().time())]+ actualizar_log()\n",
    "                    writer.writerow(datos_guardar)\n",
    "\n",
    "                    if not iniciar_log:\n",
    "                        #Cuando se desactiva la orden de realizar log, cierra el archivo y sale del segundo while\n",
    "                        archivocsv.close()\n",
    "                        HMI.lbl_gral1.config(text='LOG DETENIDO')\n",
    "                        break\n",
    "                    time.sleep(tiempo)\n",
    "                except:\n",
    "                    break\n",
    "            \n",
    "        else:\n",
    "            #Si no esta con la orden de medir, va generando el nombre del archivo y chequeando si existe\n",
    "            archivo=f'Mediciones\\{HMI.entrada.get()}.csv'\n",
    "            aux=isfile(archivo)\n",
    "            if archivo=='Mediciones\\.csv': #Esto se hace para que se ponga un nombre de archivo, si no tiene nada deshabilita el boton\n",
    "                HMI.btn_iniciar.config(state=tk.DISABLED)\n",
    "            else:\n",
    "                HMI.btn_iniciar.config(state=tk.NORMAL)\n",
    "    except Exception as e:\n",
    "        #Si se llega a generar algun error (el try no se puede completar), se muestra en la HMI y se detiene el guardado de datos\n",
    "        HMI.lbl_gral1.config(text=str(e))\n",
    "        iniciar_log=False\n",
    "    "
   ]
  }
 ],
 "metadata": {
  "colab": {
   "provenance": []
  },
  "kernelspec": {
   "display_name": "Python 3",
   "language": "python",
   "name": "python3"
  },
  "language_info": {
   "codemirror_mode": {
    "name": "ipython",
    "version": 3
   },
   "file_extension": ".py",
   "mimetype": "text/x-python",
   "name": "python",
   "nbconvert_exporter": "python",
   "pygments_lexer": "ipython3",
   "version": "3.10.11"
  },
  "vscode": {
   "interpreter": {
    "hash": "5c9e4279eb444ea05bf93f08b25afc6fc2739aa37300b119643328965409fa8b"
   }
  }
 },
 "nbformat": 4,
 "nbformat_minor": 4
}
