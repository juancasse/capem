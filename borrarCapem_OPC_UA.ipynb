{
 "cells": [
  {
   "attachments": {},
   "cell_type": "markdown",
   "metadata": {},
   "source": [
    "#### Test de comunicacion OPC usando la librería OPC UA de Python\n",
    "27/03/2023"
   ]
  },
  {
   "cell_type": "code",
   "execution_count": 3,
   "metadata": {},
   "outputs": [],
   "source": [
    "#instalar librería\n",
    "#pip install opcua"
   ]
  },
  {
   "cell_type": "code",
   "execution_count": 1,
   "metadata": {},
   "outputs": [],
   "source": [
    "from opcua import Client"
   ]
  },
  {
   "cell_type": "code",
   "execution_count": 2,
   "metadata": {},
   "outputs": [],
   "source": [
    "client=Client(\"opc.tcp://192.168.99.10:4840\")"
   ]
  },
  {
   "cell_type": "code",
   "execution_count": 5,
   "metadata": {},
   "outputs": [
    {
     "ename": "ConnectionRefusedError",
     "evalue": "[WinError 10061] No se puede establecer una conexión ya que el equipo de destino denegó expresamente dicha conexión",
     "output_type": "error",
     "traceback": [
      "\u001b[1;31m---------------------------------------------------------------------------\u001b[0m",
      "\u001b[1;31mConnectionRefusedError\u001b[0m                    Traceback (most recent call last)",
      "Cell \u001b[1;32mIn[5], line 1\u001b[0m\n\u001b[1;32m----> 1\u001b[0m client\u001b[39m.\u001b[39;49mconnect()\n",
      "File \u001b[1;32mc:\\Users\\Python\\AppData\\Local\\Programs\\Python\\Python311-32\\Lib\\site-packages\\opcua\\client\\client.py:272\u001b[0m, in \u001b[0;36mClient.connect\u001b[1;34m(self)\u001b[0m\n\u001b[0;32m    267\u001b[0m \u001b[39mdef\u001b[39;00m \u001b[39mconnect\u001b[39m(\u001b[39mself\u001b[39m):\n\u001b[0;32m    268\u001b[0m \u001b[39m    \u001b[39m\u001b[39m\"\"\"\u001b[39;00m\n\u001b[0;32m    269\u001b[0m \u001b[39m    High level method\u001b[39;00m\n\u001b[0;32m    270\u001b[0m \u001b[39m    Connect, create and activate session\u001b[39;00m\n\u001b[0;32m    271\u001b[0m \u001b[39m    \"\"\"\u001b[39;00m\n\u001b[1;32m--> 272\u001b[0m     \u001b[39mself\u001b[39;49m\u001b[39m.\u001b[39;49mconnect_socket()\n\u001b[0;32m    273\u001b[0m     \u001b[39mtry\u001b[39;00m:\n\u001b[0;32m    274\u001b[0m         \u001b[39mself\u001b[39m\u001b[39m.\u001b[39msend_hello()\n",
      "File \u001b[1;32mc:\\Users\\Python\\AppData\\Local\\Programs\\Python\\Python311-32\\Lib\\site-packages\\opcua\\client\\client.py:307\u001b[0m, in \u001b[0;36mClient.connect_socket\u001b[1;34m(self)\u001b[0m\n\u001b[0;32m    303\u001b[0m \u001b[39mdef\u001b[39;00m \u001b[39mconnect_socket\u001b[39m(\u001b[39mself\u001b[39m):\n\u001b[0;32m    304\u001b[0m \u001b[39m    \u001b[39m\u001b[39m\"\"\"\u001b[39;00m\n\u001b[0;32m    305\u001b[0m \u001b[39m    connect to socket defined in url\u001b[39;00m\n\u001b[0;32m    306\u001b[0m \u001b[39m    \"\"\"\u001b[39;00m\n\u001b[1;32m--> 307\u001b[0m     \u001b[39mself\u001b[39;49m\u001b[39m.\u001b[39;49muaclient\u001b[39m.\u001b[39;49mconnect_socket(\u001b[39mself\u001b[39;49m\u001b[39m.\u001b[39;49mserver_url\u001b[39m.\u001b[39;49mhostname, \u001b[39mself\u001b[39;49m\u001b[39m.\u001b[39;49mserver_url\u001b[39m.\u001b[39;49mport)\n",
      "File \u001b[1;32mc:\\Users\\Python\\AppData\\Local\\Programs\\Python\\Python311-32\\Lib\\site-packages\\opcua\\client\\ua_client.py:266\u001b[0m, in \u001b[0;36mUaClient.connect_socket\u001b[1;34m(self, host, port)\u001b[0m\n\u001b[0;32m    262\u001b[0m \u001b[39m\u001b[39m\u001b[39m\"\"\"\u001b[39;00m\n\u001b[0;32m    263\u001b[0m \u001b[39mconnect to server socket and start receiving thread\u001b[39;00m\n\u001b[0;32m    264\u001b[0m \u001b[39m\"\"\"\u001b[39;00m\n\u001b[0;32m    265\u001b[0m \u001b[39mself\u001b[39m\u001b[39m.\u001b[39m_uasocket \u001b[39m=\u001b[39m UASocketClient(\u001b[39mself\u001b[39m\u001b[39m.\u001b[39m_timeout, security_policy\u001b[39m=\u001b[39m\u001b[39mself\u001b[39m\u001b[39m.\u001b[39msecurity_policy)\n\u001b[1;32m--> 266\u001b[0m \u001b[39mreturn\u001b[39;00m \u001b[39mself\u001b[39;49m\u001b[39m.\u001b[39;49m_uasocket\u001b[39m.\u001b[39;49mconnect_socket(host, port)\n",
      "File \u001b[1;32mc:\\Users\\Python\\AppData\\Local\\Programs\\Python\\Python311-32\\Lib\\site-packages\\opcua\\client\\ua_client.py:155\u001b[0m, in \u001b[0;36mUASocketClient.connect_socket\u001b[1;34m(self, host, port)\u001b[0m\n\u001b[0;32m    153\u001b[0m \u001b[39mself\u001b[39m\u001b[39m.\u001b[39mlogger\u001b[39m.\u001b[39minfo(\u001b[39m\"\u001b[39m\u001b[39mopening connection\u001b[39m\u001b[39m\"\u001b[39m)\n\u001b[0;32m    154\u001b[0m \u001b[39m# Create socket with timeout for initial connection\u001b[39;00m\n\u001b[1;32m--> 155\u001b[0m sock \u001b[39m=\u001b[39m socket\u001b[39m.\u001b[39;49mcreate_connection((host, port), timeout\u001b[39m=\u001b[39;49m\u001b[39mself\u001b[39;49m\u001b[39m.\u001b[39;49mtimeout)\n\u001b[0;32m    156\u001b[0m \u001b[39m# set to blocking mode again\u001b[39;00m\n\u001b[0;32m    157\u001b[0m sock\u001b[39m.\u001b[39msettimeout(\u001b[39mNone\u001b[39;00m)\n",
      "File \u001b[1;32mc:\\Users\\Python\\AppData\\Local\\Programs\\Python\\Python311-32\\Lib\\socket.py:851\u001b[0m, in \u001b[0;36mcreate_connection\u001b[1;34m(address, timeout, source_address, all_errors)\u001b[0m\n\u001b[0;32m    849\u001b[0m \u001b[39mtry\u001b[39;00m:\n\u001b[0;32m    850\u001b[0m     \u001b[39mif\u001b[39;00m \u001b[39mnot\u001b[39;00m all_errors:\n\u001b[1;32m--> 851\u001b[0m         \u001b[39mraise\u001b[39;00m exceptions[\u001b[39m0\u001b[39m]\n\u001b[0;32m    852\u001b[0m     \u001b[39mraise\u001b[39;00m ExceptionGroup(\u001b[39m\"\u001b[39m\u001b[39mcreate_connection failed\u001b[39m\u001b[39m\"\u001b[39m, exceptions)\n\u001b[0;32m    853\u001b[0m \u001b[39mfinally\u001b[39;00m:\n\u001b[0;32m    854\u001b[0m     \u001b[39m# Break explicitly a reference cycle\u001b[39;00m\n",
      "File \u001b[1;32mc:\\Users\\Python\\AppData\\Local\\Programs\\Python\\Python311-32\\Lib\\socket.py:836\u001b[0m, in \u001b[0;36mcreate_connection\u001b[1;34m(address, timeout, source_address, all_errors)\u001b[0m\n\u001b[0;32m    834\u001b[0m \u001b[39mif\u001b[39;00m source_address:\n\u001b[0;32m    835\u001b[0m     sock\u001b[39m.\u001b[39mbind(source_address)\n\u001b[1;32m--> 836\u001b[0m sock\u001b[39m.\u001b[39;49mconnect(sa)\n\u001b[0;32m    837\u001b[0m \u001b[39m# Break explicitly a reference cycle\u001b[39;00m\n\u001b[0;32m    838\u001b[0m exceptions\u001b[39m.\u001b[39mclear()\n",
      "\u001b[1;31mConnectionRefusedError\u001b[0m: [WinError 10061] No se puede establecer una conexión ya que el equipo de destino denegó expresamente dicha conexión"
     ]
    }
   ],
   "source": [
    "client.connect()"
   ]
  },
  {
   "cell_type": "code",
   "execution_count": null,
   "metadata": {},
   "outputs": [],
   "source": []
  }
 ],
 "metadata": {
  "kernelspec": {
   "display_name": "Python 3",
   "language": "python",
   "name": "python3"
  },
  "language_info": {
   "codemirror_mode": {
    "name": "ipython",
    "version": 3
   },
   "file_extension": ".py",
   "mimetype": "text/x-python",
   "name": "python",
   "nbconvert_exporter": "python",
   "pygments_lexer": "ipython3",
   "version": "3.11.2"
  },
  "orig_nbformat": 4
 },
 "nbformat": 4,
 "nbformat_minor": 2
}
