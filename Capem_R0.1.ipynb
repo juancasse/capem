{
 "cells": [
  {
   "cell_type": "code",
   "execution_count": 1,
   "metadata": {
    "id": "RPCa7izmhU7U",
    "scrolled": true
   },
   "outputs": [],
   "source": [
    "import OpenOPC as OP\n",
    "import time\n",
    "import threading as th\n",
    "#import wx\n",
    "import datetime\n",
    "import serial\n",
    "import pywintypes\n"
   ]
  },
  {
   "cell_type": "code",
   "execution_count": 2,
   "metadata": {},
   "outputs": [],
   "source": [
    "pywintypes.datetime=pywintypes.TimeType"
   ]
  },
  {
   "cell_type": "code",
   "execution_count": 3,
   "metadata": {},
   "outputs": [],
   "source": [
    "opc=OP.client()"
   ]
  },
  {
   "cell_type": "code",
   "execution_count": 4,
   "metadata": {},
   "outputs": [
    {
     "name": "stdout",
     "output_type": "stream",
     "text": [
      "['ABB.AC800MC_OpcDaServer.3', 'Matrikon.OPC.Simulation.1']\n"
     ]
    }
   ],
   "source": [
    "servidor=opc.servers()\n",
    "print(servidor)"
   ]
  },
  {
   "cell_type": "code",
   "execution_count": 6,
   "metadata": {},
   "outputs": [],
   "source": [
    "opc.connect('ABB.AC800MC_OpcDaServer.3','192.168.99.10')"
   ]
  },
  {
   "cell_type": "code",
   "execution_count": 25,
   "metadata": {},
   "outputs": [
    {
     "data": {
      "text/plain": [
       "(True, 'Good', '2023-03-17 10:18:18.519000+00:00')"
      ]
     },
     "execution_count": 25,
     "metadata": {},
     "output_type": "execute_result"
    }
   ],
   "source": [
    "opc.read(\"Applications.Application_1.Program2.bool1\")"
   ]
  },
  {
   "cell_type": "code",
   "execution_count": 26,
   "metadata": {},
   "outputs": [
    {
     "data": {
      "text/plain": [
       "(True, 'Good', '2023-03-17 10:18:44.714000+00:00')"
      ]
     },
     "execution_count": 26,
     "metadata": {},
     "output_type": "execute_result"
    }
   ],
   "source": [
    "opc.read(\"Applications.Application_1.b1\")"
   ]
  },
  {
   "cell_type": "markdown",
   "metadata": {
    "tags": []
   },
   "source": [
    "### Definicion de variables globales"
   ]
  },
  {
   "cell_type": "code",
   "execution_count": 16,
   "metadata": {},
   "outputs": [],
   "source": [
    "opcserver = \"ABB.AC800MC_OpcDaSarver.3\"\n",
    "mainTagname = \"Applications.CAPEM\"\n",
    "#lista de comandos:\n",
    "#cerrar: finaliza el programa\n",
    "close=\"5\"\n",
    "#iniciar: inicia la medicion\n",
    "start= \"1\"\n",
    "#detener: detiene la medicion\n",
    "stop=\"2\"\n",
    "#envia una nueva configuracion\n",
    "config=\"0\"\n",
    "#Chequea el estado de la aplicacion\n",
    "status=\"4\"\n",
    "#Diccionario para mensajes luego de los comandos\n",
    "comdic={config:\"Cargando configuraciones\", start:\"Mediciones iniciadas\", stop:\"Mediciones detenidas\", close:\"Cerrando programa\", status: \"Estado de sistema:\"}\n",
    "comando=config\n",
    "comprev=comando\n",
    "variables=[]\n",
    "device=serial.Serial()"
   ]
  },
  {
   "cell_type": "markdown",
   "metadata": {},
   "source": [
    "### Funciones\n"
   ]
  },
  {
   "cell_type": "code",
   "execution_count": null,
   "metadata": {},
   "outputs": [],
   "source": [
    "## Funcion que carga configuraciones\n",
    "from configuracion import configurar"
   ]
  },
  {
   "cell_type": "code",
   "execution_count": null,
   "metadata": {},
   "outputs": [],
   "source": [
    "##Funcion que chequea estado\n",
    "def check_estado():\n",
    "    \"Funcion que chequea estado del sistema\"\n",
    "    global comprev, device, comdic\n",
    "    \n",
    "    if device.isOpen():\n",
    "        dsp=\"Dispositivo conectado\\n\"\n",
    "    else:\n",
    "        dsp=\"Dispositivo desconectado\\n\"\n",
    "        \n",
    "    cmd=comdic[comprev]+\"\\n\"\n",
    "    \n",
    "    estado=\"\\n\\n -Dispositivo de medición: \"+dsp+\" -Comando actual: \"+cmd\n",
    "    \n",
    "    return estado"
   ]
  },
  {
   "cell_type": "code",
   "execution_count": null,
   "metadata": {},
   "outputs": [],
   "source": [
    "## Funcion que permite ingresar comandos desde consola\n",
    "def comandos():\n",
    "    \"Funcion que permite ingresar comandos desde consola\"\n",
    "    global comando, close, comdic, comprev\n",
    "    while comando!=close:\n",
    "        comando1 =input(\"\\ningrese comando:\\n  0. Cargar nueva configuracion\\n  1. Iniciar medicion\\n  2. Detener medicion\\n  4. Estado\\n  5. Salir\\n\")\n",
    "        if comando1 in comdic:\n",
    "            comprev=comando\n",
    "            comando=comando1\n",
    "            print(comdic[comando])\n",
    "        else:\n",
    "            print(\"el comando {} no se reconoce\".format(comando1))"
   ]
  },
  {
   "cell_type": "code",
   "execution_count": null,
   "metadata": {},
   "outputs": [],
   "source": [
    "def medir(tiempo=3.0,parametro=0):\n",
    "    \"Rutina que toma las mediciones de CAPEM y del instrumento\"\n",
    "    global comando,start, variables, device\n",
    "    #Acá va la funcion que mide las variables de CAPEM y del instrumento \n",
    "    escritura=0\n",
    "    while comando == start:\n",
    "        escritura+=1\n",
    "        wr=bytes(\"121\",\"utf-8\")\n",
    "        device.write(wr)\n",
    "        time.sleep(0.5)\n",
    "        resp=device.read(3)\n",
    "        print(resp.decode('utf-8'))\n",
    "        #print(datetime.datetime.now())\n",
    "        time.sleep(tiempo)\n",
    "    #print (\"medicion finalizada\")\n",
    "    "
   ]
  },
  {
   "cell_type": "markdown",
   "metadata": {},
   "source": [
    "### Rutina principal"
   ]
  },
  {
   "cell_type": "code",
   "execution_count": 22,
   "metadata": {
    "id": "BedMLAbLi4P7",
    "jp-MarkdownHeadingCollapsed": true,
    "tags": []
   },
   "outputs": [
    {
     "ename": "NameError",
     "evalue": "name 'comandos' is not defined",
     "output_type": "error",
     "traceback": [
      "\u001b[1;31m---------------------------------------------------------------------------\u001b[0m",
      "\u001b[1;31mNameError\u001b[0m                                 Traceback (most recent call last)",
      "\u001b[1;32m~\\AppData\\Local\\Temp\\ipykernel_6724\\3453413277.py\u001b[0m in \u001b[0;36m<module>\u001b[1;34m\u001b[0m\n\u001b[0;32m      6\u001b[0m     \u001b[0mdevice\u001b[0m\u001b[1;33m.\u001b[0m\u001b[0mopen\u001b[0m\u001b[1;33m(\u001b[0m\u001b[1;33m)\u001b[0m\u001b[1;33m\u001b[0m\u001b[1;33m\u001b[0m\u001b[0m\n\u001b[0;32m      7\u001b[0m \u001b[1;31m##### Thread 2, Busca comandos\u001b[0m\u001b[1;33m\u001b[0m\u001b[1;33m\u001b[0m\u001b[0m\n\u001b[1;32m----> 8\u001b[1;33m \u001b[0mth2\u001b[0m\u001b[1;33m=\u001b[0m\u001b[0mth\u001b[0m\u001b[1;33m.\u001b[0m\u001b[0mThread\u001b[0m\u001b[1;33m(\u001b[0m\u001b[0mtarget\u001b[0m\u001b[1;33m=\u001b[0m\u001b[0mcomandos\u001b[0m\u001b[1;33m,\u001b[0m\u001b[0mname\u001b[0m\u001b[1;33m=\u001b[0m\u001b[1;34m\"th2\"\u001b[0m\u001b[1;33m)\u001b[0m\u001b[1;33m\u001b[0m\u001b[1;33m\u001b[0m\u001b[0m\n\u001b[0m\u001b[0;32m      9\u001b[0m \u001b[0mth2\u001b[0m\u001b[1;33m.\u001b[0m\u001b[0mstart\u001b[0m\u001b[1;33m(\u001b[0m\u001b[1;33m)\u001b[0m\u001b[1;33m\u001b[0m\u001b[1;33m\u001b[0m\u001b[0m\n\u001b[0;32m     10\u001b[0m \u001b[1;33m\u001b[0m\u001b[0m\n",
      "\u001b[1;31mNameError\u001b[0m: name 'comandos' is not defined"
     ]
    }
   ],
   "source": [
    "##### Concectar puerto serie\n",
    "\n",
    "if device.port==None:\n",
    "    device=serial.Serial(port=\"COM3\",baudrate=19200,bytesize=8, parity=\"N\", stopbits=1, timeout=10)\n",
    "elif device.isOpen()==False:\n",
    "    device.open()\n",
    "##### Thread 2, Busca comandos\n",
    "th2=th.Thread(target=comandos,name=\"th2\")\n",
    "th2.start()\n",
    "\n",
    "## Loop principal\n",
    "while comando != close:\n",
    "    if comando == status:\n",
    "        sts=check_estado()\n",
    "        print(sts)\n",
    "        comando=comprev\n",
    "    if comando == start:\n",
    "        medir()\n",
    "           \n",
    "    if comando == config:\n",
    "        configurar(\"/config.txt\")\n",
    "        comando=stop\n",
    "        \n",
    "\n",
    "print(\"Programa finalizado\")\n",
    "if device.isOpen() == True:\n",
    "    device.close()\n",
    "    #print(\"ajam\")\n",
    "    #comando1=input(\"ingrese comando:\\n  0. Cargar nueva configuracion\\n  1. Iniciar medicion\\n  2. Detener medicion\\n  5. Salir\\n\")\n",
    "    \n",
    "    \n",
    "\n",
    "    "
   ]
  },
  {
   "cell_type": "code",
   "execution_count": null,
   "metadata": {},
   "outputs": [],
   "source": [
    "device.close()"
   ]
  },
  {
   "cell_type": "code",
   "execution_count": null,
   "metadata": {},
   "outputs": [],
   "source": [
    "medir()"
   ]
  },
  {
   "cell_type": "code",
   "execution_count": null,
   "metadata": {},
   "outputs": [],
   "source": []
  }
 ],
 "metadata": {
  "colab": {
   "provenance": []
  },
  "kernelspec": {
   "display_name": "Python 3 (ipykernel)",
   "language": "python",
   "name": "python3"
  },
  "language_info": {
   "codemirror_mode": {
    "name": "ipython",
    "version": 3
   },
   "file_extension": ".py",
   "mimetype": "text/x-python",
   "name": "python",
   "nbconvert_exporter": "python",
   "pygments_lexer": "ipython3",
   "version": "3.11.2"
  }
 },
 "nbformat": 4,
 "nbformat_minor": 4
}
