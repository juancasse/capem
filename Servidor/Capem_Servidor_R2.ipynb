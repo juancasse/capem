{
 "cells": [
  {
   "cell_type": "code",
   "execution_count": 1,
   "metadata": {
    "id": "RPCa7izmhU7U",
    "scrolled": true
   },
   "outputs": [],
   "source": [
    "import OpenOPC as OP\n",
    "import pywintypes\n",
    "pywintypes.datetime=pywintypes.TimeType #Se usa para OpenOPC o.o\n",
    "import socket "
   ]
  },
  {
   "attachments": {},
   "cell_type": "markdown",
   "metadata": {
    "tags": []
   },
   "source": [
    "### Definicion de variables globales"
   ]
  },
  {
   "cell_type": "code",
   "execution_count": 2,
   "metadata": {},
   "outputs": [],
   "source": [
    "opcserver = \"ABB.AC800MC_OpcDaServer.3\"\n",
    "variables=[]\n",
    "#Defino el objeto servidor OPC\n",
    "opc=OP.client()"
   ]
  },
  {
   "attachments": {},
   "cell_type": "markdown",
   "metadata": {},
   "source": [
    "### Funciones\n"
   ]
  },
  {
   "attachments": {},
   "cell_type": "markdown",
   "metadata": {},
   "source": [
    "#funcion que lee el OPC\n",
    "def actualizar():\n",
    "    #Conecto con el servidor de ABB...\n",
    "    opc.connect('ABB.AC800MC_OpcDaServer.3')\n",
    "    #...y traigo una lista de variables\n",
    "    vars=list(opc.read([\"Applications.CAPEM.SC_TESTIGO.Value\",\"Applications.CAPEM.SC_POS_Val.Value\",\"Applications.CAPEM.SC_ERROR.Value\",\n",
    "                        \"Applications.CAPEM.PT030_In.Value\",\"Applications.CAPEM.LT035_mmH2O_GLOBAL.Value\",\"Applications.CAPEM.TT024B_In.Value\",\n",
    "                        \"Applications.CAPEM.TT024A_In.Value\",\"Applications.CAPEM.TBCe_In.Value\"]))\n",
    "    #Agrego un miembro en la primera posicion de la lista, que despues se va a usar para chequeo de comunicacion\n",
    "    #Reemplazo los TRUE y FALSE  por 1 y 0\n",
    "    vars2= [0]+list(map((lambda x: 1 if x[1]==True else (0 if x[1]==False else x[1])),vars))\n",
    "    return vars2"
   ]
  },
  {
   "cell_type": "code",
   "execution_count": 3,
   "metadata": {},
   "outputs": [],
   "source": [
    "#funcion que lee el OPC\n",
    "def actualizar():\n",
    "    #Conecto con el servidor de ABB...\n",
    "    opc.connect('ABB.AC800MC_OpcDaServer.3')\n",
    "    #...y traigo una lista de variables\n",
    "    vars=list(opc.read([\"Applications.CAPEM.SC_TESTIGO\",\"Applications.CAPEM.SC_POS_Val\",\"Applications.CAPEM.SC_ERROR\",\n",
    "                        \"Applications.CAPEM.PT030_In.Value\",\"Applications.CAPEM.LT035_mmH2O_GLOBAL.Value\",\"Applications.CAPEM.TT024B_In.Value\",\n",
    "                        \"Applications.CAPEM.TT024A_In.Value\",\"Applications.CAPEM.TBCe_In.Value\"]))\n",
    "    #Agrego un miembro en la primera posicion de la lista, que despues se va a usar para chequeo de comunicacion\n",
    "    #Reemplazo los TRUE y FALSE  por 1 y 0\n",
    "    vars2= [0]+list(map((lambda x: 1 if x[1]==True else (0 if x[1]==False else x[1])),vars))\n",
    "    return vars2"
   ]
  },
  {
   "attachments": {},
   "cell_type": "markdown",
   "metadata": {},
   "source": [
    "### Rutina principal"
   ]
  },
  {
   "cell_type": "code",
   "execution_count": 4,
   "metadata": {
    "id": "BedMLAbLi4P7",
    "jp-MarkdownHeadingCollapsed": true,
    "tags": []
   },
   "outputs": [
    {
     "name": "stdout",
     "output_type": "stream",
     "text": [
      "Connected by ('192.168.99.15', 52749)\n",
      "Connected by ('192.168.99.15', 52750)\n",
      "Connected by ('192.168.99.15', 52751)\n",
      "[WinError 10054] Se ha forzado la interrupción de una conexión existente por el host remoto\n",
      "Connected by ('192.168.99.15', 52828)\n",
      "[WinError 10054] Se ha forzado la interrupción de una conexión existente por el host remoto\n"
     ]
    }
   ],
   "source": [
    "port=9999\n",
    "#Creo el objeto socket para comunicar con la otra PC\n",
    "with socket.socket(socket.AF_INET, socket.SOCK_STREAM) as s:\n",
    "    #Asocio el socket al puerto\n",
    "    s.bind(('', port))\n",
    "    ## Loop principal\n",
    "    while True:\n",
    "        #Con listen() habilito a escuchar conexiones y con accept() la acepto\n",
    "        s.listen()\n",
    "        conn, addr = s.accept() #devuelve conn que es como un nuevo socket exclusivo (creo)\n",
    "        with conn:\n",
    "            try:\n",
    "                print(f\"Connected by {addr}\")\n",
    "                #Mientras está la conexion se ejecuta el loop de envío de datos\n",
    "                while True:\n",
    "                    datos=actualizar()                      #Los traigo de OPC\n",
    "                    data = conn.recv(1024).decode(\"ascii\")  #Decodifico los datos enviados desde la otra PC\n",
    "                    if not data or data==\"cerrar\":\n",
    "                        break\n",
    "                    #print(data)\n",
    "                    if data==\"hs\":                          #Uso hs para realizar un handshake con la otra PC cuando se conecta (solo una vez)\n",
    "                        resp=b\"hs\"\n",
    "                    elif 0<=int(data)<=1000 and datos!=None:#Si lo que envía la PC es un numero es porque píde datos de OPC\n",
    "                        cn=int(data)\n",
    "                        datos[0]=cn \n",
    "                        #print(datos)                        #el dato que envía es un numero de confirmación, por lo que tengo que enviarlo en la pos 0\n",
    "                        resp=str(datos).encode(\"ascii\")     #Codifico los datos de OPC mas el cn\n",
    "\n",
    "                    conn.sendall(resp)                      #y lo mando a la otra PC\n",
    "            except Exception as e:\n",
    "                print(str(e))"
   ]
  }
 ],
 "metadata": {
  "colab": {
   "provenance": []
  },
  "kernelspec": {
   "display_name": "Python 3",
   "language": "python",
   "name": "python3"
  },
  "language_info": {
   "codemirror_mode": {
    "name": "ipython",
    "version": 3
   },
   "file_extension": ".py",
   "mimetype": "text/x-python",
   "name": "python",
   "nbconvert_exporter": "python",
   "pygments_lexer": "ipython3",
   "version": "3.11.2"
  },
  "vscode": {
   "interpreter": {
    "hash": "5c9e4279eb444ea05bf93f08b25afc6fc2739aa37300b119643328965409fa8b"
   }
  }
 },
 "nbformat": 4,
 "nbformat_minor": 4
}
