{
 "cells": [
  {
   "cell_type": "code",
   "execution_count": 1,
   "metadata": {
    "id": "RPCa7izmhU7U",
    "scrolled": true
   },
   "outputs": [],
   "source": [
    "import OpenOPC as OP\n",
    "#import threading as th\n",
    "import pywintypes\n",
    "#import time\n",
    "pywintypes.datetime=pywintypes.TimeType\n",
    "import socket"
   ]
  },
  {
   "attachments": {},
   "cell_type": "markdown",
   "metadata": {
    "tags": []
   },
   "source": [
    "### Definicion de variables globales"
   ]
  },
  {
   "cell_type": "code",
   "execution_count": 2,
   "metadata": {},
   "outputs": [],
   "source": [
    "opcserver = \"ABB.AC800MC_OpcDaServer.3\"\n",
    "\n",
    "#lista de comandos:\n",
    "#cerrar: finaliza el programa\n",
    "close=\"5\"\n",
    "#iniciar: inicia la medicion\n",
    "start= \"1\"\n",
    "#detener: detiene la medicion\n",
    "stop=\"2\"\n",
    "#Diccionario para mensajes luego de los comandos\n",
    "comdic={start:\"Interfaz iniciada\", stop:\"Interfaz detenida\", close:\"Cerrando programa\"}\n",
    "comando=stop\n",
    "comprev=comando\n",
    "variables=[]"
   ]
  },
  {
   "attachments": {},
   "cell_type": "markdown",
   "metadata": {},
   "source": [
    "Conecto con el servidor OPC"
   ]
  },
  {
   "cell_type": "code",
   "execution_count": 3,
   "metadata": {},
   "outputs": [],
   "source": [
    "opc=OP.client()\n",
    "#opc.connect('ABB.AC800MC_OpcDaServer.3')"
   ]
  },
  {
   "attachments": {},
   "cell_type": "markdown",
   "metadata": {},
   "source": [
    "### Funciones\n"
   ]
  },
  {
   "cell_type": "code",
   "execution_count": 4,
   "metadata": {},
   "outputs": [],
   "source": [
    "#funcion que lee el OPC\n",
    "def actualizar():\n",
    "    opc.connect('ABB.AC800MC_OpcDaServer.3')\n",
    "    vars=list(opc.read([\"Applications.CAPEM.SC_TESTIGO.Value\",\"Applications.CAPEM.SC_POS_Val.Value\",\"Applications.CAPEM.SC_ERROR.Value\",\n",
    "                        \"Applications.CAPEM.PT030_In.Value\",\"Applications.CAPEM.LT035_mmH2O_GLOBAL.Value\",\"Applications.CAPEM.TT024B_In.Value\",\n",
    "                        \"Applications.CAPEM.TT024A_In.Value\",\"Applications.CAPEM.TBCe_In.Value\"]))\n",
    "    vars2= [0]+list(map((lambda x: 1 if x[1]==True else (0 if x[1]==False else x[1])),vars))\n",
    "    return vars2"
   ]
  },
  {
   "attachments": {},
   "cell_type": "markdown",
   "metadata": {},
   "source": [
    "### Rutina principal"
   ]
  },
  {
   "cell_type": "code",
   "execution_count": 5,
   "metadata": {
    "id": "BedMLAbLi4P7",
    "jp-MarkdownHeadingCollapsed": true,
    "tags": []
   },
   "outputs": [],
   "source": [
    "##### Thread 2, Busca comandos\n",
    "#th2=th.Thread(target=comandos,name=\"th2\")\n",
    "#th2.start()\n",
    "#th1=th.Thread(target=comandos,name=\"th1\")\n",
    "host=\"172.16.4.9\"\n",
    "port=9999\n",
    "with socket.socket(socket.AF_INET, socket.SOCK_STREAM) as s:\n",
    "    s.bind((\"\", port))\n",
    "    ## Loop principal\n",
    "    while True:\n",
    "        s.listen()\n",
    "        conn, addr = s.accept()\n",
    "        with conn:\n",
    "            try:\n",
    "                print(f\"Connected by {addr}\")\n",
    "                while True:\n",
    "                    datos=actualizar()\n",
    "                    data = conn.recv(1024).decode(\"ascii\")\n",
    "                    if not data or data==\"cerrar\":\n",
    "                        break\n",
    "                    #print(data)\n",
    "                    if data==\"hs\":\n",
    "                        resp=b\"hs\"\n",
    "                    elif 0<=int(data)<=1000 and datos!=None:\n",
    "                        cn=int(data)\n",
    "                        datos[0]=cn\n",
    "                        #res=data+\",\"+str(datos)\n",
    "                        #print(res)\n",
    "                        resp=str(datos).encode(\"ascii\")\n",
    "                    ##resp=str(actualizar()).encode(\"ascii\")\n",
    "                    #resp=responder(data) \n",
    "                    #resp=b'25.75,5.45,12.152,456,456.2,1,3215,123,123,123,515,15,681,6,313,6,5558, abcde,int32,mi vieja mula ya no es lo que era'\n",
    "                    conn.sendall(resp)  \n",
    "            except Exception as e:\n",
    "                print(str(e))"
   ]
  }
 ],
 "metadata": {
  "colab": {
   "provenance": []
  },
  "kernelspec": {
   "display_name": "Python 3",
   "language": "python",
   "name": "python3"
  },
  "language_info": {
   "codemirror_mode": {
    "name": "ipython",
    "version": 3
   },
   "file_extension": ".py",
   "mimetype": "text/x-python",
   "name": "python",
   "nbconvert_exporter": "python",
   "pygments_lexer": "ipython3",
   "version": "3.10.11"
  },
  "vscode": {
   "interpreter": {
    "hash": "5c9e4279eb444ea05bf93f08b25afc6fc2739aa37300b119643328965409fa8b"
   }
  }
 },
 "nbformat": 4,
 "nbformat_minor": 4
}
