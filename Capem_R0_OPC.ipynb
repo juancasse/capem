{
 "cells": [
  {
   "cell_type": "code",
   "execution_count": 1,
   "metadata": {
    "id": "RPCa7izmhU7U",
    "scrolled": true
   },
   "outputs": [],
   "source": [
    "import OpenOPC as OP\n",
    "import threading as th\n",
    "import pywintypes\n",
    "import pyodbc\n",
    "import time\n",
    "pywintypes.datetime=pywintypes.TimeType"
   ]
  },
  {
   "cell_type": "markdown",
   "metadata": {
    "tags": []
   },
   "source": [
    "### Definicion de variables globales"
   ]
  },
  {
   "cell_type": "code",
   "execution_count": 2,
   "metadata": {},
   "outputs": [],
   "source": [
    "opcserver = \"ABB.AC800MC_OpcDaSarver.3\"\n",
    "#mainTagname = \"Applications.CAPEM\"\n",
    "#lista de comandos:\n",
    "#cerrar: finaliza el programa\n",
    "close=\"5\"\n",
    "#iniciar: inicia la medicion\n",
    "start= \"1\"\n",
    "#detener: detiene la medicion\n",
    "stop=\"2\"\n",
    "#Diccionario para mensajes luego de los comandos\n",
    "comdic={start:\"Interfaz iniciada\", stop:\"Interfaz detenida\", close:\"Cerrando programa\"}\n",
    "comando=stop\n",
    "comprev=comando\n",
    "variables=[]"
   ]
  },
  {
   "attachments": {},
   "cell_type": "markdown",
   "metadata": {},
   "source": [
    "Conecto con el servidor OPC"
   ]
  },
  {
   "cell_type": "code",
   "execution_count": 3,
   "metadata": {},
   "outputs": [],
   "source": [
    "opc=OP.client()\n",
    "opc.connect('ABB.AC800MC_OpcDaServer.3')"
   ]
  },
  {
   "attachments": {},
   "cell_type": "markdown",
   "metadata": {},
   "source": [
    "Conecto con base de datos"
   ]
  },
  {
   "cell_type": "code",
   "execution_count": 4,
   "metadata": {},
   "outputs": [],
   "source": [
    "def conectardb():\n",
    "    global cursor\n",
    "    conn = pyodbc.connect('Driver={SQL Server};'\n",
    "                          'Server=DESKTOP-820175M\\SQLEXPRESS;'\n",
    "                          'Database=capem;'\n",
    "                          'Trusted_Connection=yes;')\n",
    "\n",
    "    cursor=conn.cursor()"
   ]
  },
  {
   "attachments": {},
   "cell_type": "markdown",
   "metadata": {},
   "source": [
    "Estos comandos se ejecutan para crear la tabla y para crear por primera vez el dato"
   ]
  },
  {
   "cell_type": "code",
   "execution_count": 5,
   "metadata": {},
   "outputs": [],
   "source": [
    "#comando(\"create table capem.dbo.datos(id int, b1 bit not null, int1 int not null)\")\n",
    "#comando(\"insert into capem.dbo.datos values (1,0,0)\")"
   ]
  },
  {
   "cell_type": "markdown",
   "metadata": {},
   "source": [
    "### Funciones\n"
   ]
  },
  {
   "cell_type": "code",
   "execution_count": 6,
   "metadata": {},
   "outputs": [],
   "source": [
    "## Funcion que permite ingresar comandos desde consola\n",
    "def comandos():\n",
    "    \"Funcion que permite ingresar comandos desde consola\"\n",
    "    global comando, close, comdic, comprev\n",
    "    while comando!=close:\n",
    "        comando1 =input(\"\\ningrese comando:\\n  1. Iniciar interfaz\\n  2. Detener interfaz\\n  5. Salir\\n\")\n",
    "        if comando1 in comdic:\n",
    "            comprev=comando\n",
    "            comando=comando1\n",
    "            print(comdic[comando])\n",
    "        else:\n",
    "            print(\"el comando {} no se reconoce\".format(comando1))"
   ]
  },
  {
   "cell_type": "code",
   "execution_count": 7,
   "metadata": {},
   "outputs": [],
   "source": [
    "#funcion que lee el OPC y lo guarda en BD\n",
    "def actualizar():\n",
    "    global cursor\n",
    "    conn = pyodbc.connect('Driver={SQL Server};'\n",
    "                          'Server=DESKTOP-820175M\\SQLEXPRESS;'\n",
    "                          'Database=capem;'\n",
    "                          'Trusted_Connection=yes;')\n",
    "\n",
    "    cursor=conn.cursor()\n",
    "    \n",
    "    vars=opc.read([\"Applications.Application_1.b1\",\"Applications.Application_1.Program2.int1\",\"Applications.Application_1.Program2.bool1\"])\n",
    "    varsl=[]\n",
    "    for x in (vars):\n",
    "        varsl.append(list(x))\n",
    "    for n, i in enumerate(varsl):\n",
    "        if i[1] == False:\n",
    "            varsl[n][1]=0\n",
    "        elif i[1] == True:\n",
    "            varsl[n][1]=1\n",
    "\n",
    "    cursor.execute(f\"update capem.dbo.datos set b1 = {varsl[0][1]}, int1 = {varsl[1][1]} where id =1\")\n",
    "    datos=cursor.execute(\"select * from capem.dbo.datos\")\n",
    "    \n",
    "    return datos"
   ]
  },
  {
   "cell_type": "markdown",
   "metadata": {},
   "source": [
    "### Rutina principal"
   ]
  },
  {
   "cell_type": "code",
   "execution_count": 8,
   "metadata": {
    "id": "BedMLAbLi4P7",
    "jp-MarkdownHeadingCollapsed": true,
    "tags": []
   },
   "outputs": [
    {
     "name": "stdout",
     "output_type": "stream",
     "text": [
      "Interfaz iniciada\n",
      "(1, True, 4)\n",
      "(1, True, 4)\n",
      "(1, True, 4)\n",
      "Interfaz detenida\n",
      "(1, True, 4)\n",
      "Interfaz iniciada\n",
      "(1, False, 5)\n",
      "(1, False, 5)\n",
      "Interfaz detenida\n",
      "(1, True, 5)\n",
      "Cerrando programa\n"
     ]
    },
    {
     "ename": "ProgrammingError",
     "evalue": "Attempt to use a closed cursor.",
     "output_type": "error",
     "traceback": [
      "\u001b[1;31m---------------------------------------------------------------------------\u001b[0m",
      "\u001b[1;31mProgrammingError\u001b[0m                          Traceback (most recent call last)",
      "Cell \u001b[1;32mIn[8], line 14\u001b[0m\n\u001b[0;32m     11\u001b[0m         cursor\u001b[39m.\u001b[39mclose()\n\u001b[0;32m     12\u001b[0m         time\u001b[39m.\u001b[39msleep(\u001b[39m0.5\u001b[39m)   \n\u001b[1;32m---> 14\u001b[0m cursor\u001b[39m.\u001b[39;49mclose()\n\u001b[0;32m     15\u001b[0m \u001b[39mprint\u001b[39m(\u001b[39m\"\u001b[39m\u001b[39mPrograma finalizado\u001b[39m\u001b[39m\"\u001b[39m)\n",
      "\u001b[1;31mProgrammingError\u001b[0m: Attempt to use a closed cursor."
     ]
    }
   ],
   "source": [
    "##### Thread 2, Busca comandos\n",
    "th2=th.Thread(target=comandos,name=\"th2\")\n",
    "th2.start()\n",
    "\n",
    "## Loop principal\n",
    "while comando != close:\n",
    "    if comando == start:\n",
    "        datos=actualizar()\n",
    "        for i in datos:\n",
    "            print(i)\n",
    "        cursor.close()\n",
    "        time.sleep(0.5)   \n",
    "print(\"Programa finalizado\")\n",
    "\n",
    "\n",
    "    "
   ]
  },
  {
   "cell_type": "code",
   "execution_count": null,
   "metadata": {},
   "outputs": [],
   "source": []
  }
 ],
 "metadata": {
  "colab": {
   "provenance": []
  },
  "kernelspec": {
   "display_name": "Python 3 (ipykernel)",
   "language": "python",
   "name": "python3"
  },
  "language_info": {
   "codemirror_mode": {
    "name": "ipython",
    "version": 3
   },
   "file_extension": ".py",
   "mimetype": "text/x-python",
   "name": "python",
   "nbconvert_exporter": "python",
   "pygments_lexer": "ipython3",
   "version": "3.11.2"
  }
 },
 "nbformat": 4,
 "nbformat_minor": 4
}
